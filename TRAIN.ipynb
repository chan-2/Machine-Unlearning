{
 "cells": [
  {
   "cell_type": "code",
   "execution_count": 1,
   "metadata": {},
   "outputs": [],
   "source": [
    "from torchvision.models import resnet50\n",
    "import torch\n",
    "\n",
    "from torch.utils.data import Dataset, DataLoader, random_split\n",
    "import torch.nn as nn\n",
    "import numpy as np\n",
    "import cv2\n",
    "\n",
    "from torch import optim\n",
    "from tqdm import tqdm\n",
    "\n",
    "import json\n",
    "import pickle"
   ]
  },
  {
   "cell_type": "code",
   "execution_count": 2,
   "metadata": {},
   "outputs": [],
   "source": [
    "def unpickle(file):\n",
    "    with open(file, 'rb') as fo:\n",
    "        myDict = pickle.load(fo, encoding='latin1')\n",
    "    return myDict"
   ]
  },
  {
   "cell_type": "code",
   "execution_count": 3,
   "metadata": {},
   "outputs": [],
   "source": [
    "metaData = unpickle('./cifar-10-batches-py/batches.meta')\n",
    "labels=metaData['label_names']\n",
    "\n",
    "DICT={}\n",
    "idx=0\n",
    "for i in labels:\n",
    "    DICT[i]=idx\n",
    "    idx+=1"
   ]
  },
  {
   "cell_type": "code",
   "execution_count": 4,
   "metadata": {},
   "outputs": [
    {
     "name": "stderr",
     "output_type": "stream",
     "text": [
      "/home/chan/anaconda3/lib/python3.9/site-packages/torchvision/models/_utils.py:208: UserWarning: The parameter 'pretrained' is deprecated since 0.13 and will be removed in 0.15, please use 'weights' instead.\n",
      "  warnings.warn(\n",
      "/home/chan/anaconda3/lib/python3.9/site-packages/torchvision/models/_utils.py:223: UserWarning: Arguments other than a weight enum or `None` for 'weights' are deprecated since 0.13 and will be removed in 0.15. The current behavior is equivalent to passing `weights=ResNet50_Weights.IMAGENET1K_V1`. You can also use `weights=ResNet50_Weights.DEFAULT` to get the most up-to-date weights.\n",
      "  warnings.warn(msg)\n"
     ]
    }
   ],
   "source": [
    "model=resnet50(pretrained=True)\n",
    "\n",
    "# for param in model.parameters():\n",
    "#     param.requires_grad=False\n",
    "\n",
    "model.fc=nn.Sequential(*[\n",
    "    nn.Linear(in_features=2048, out_features=10),\n",
    "])"
   ]
  },
  {
   "cell_type": "code",
   "execution_count": 7,
   "metadata": {},
   "outputs": [],
   "source": [
    "class Dataset(Dataset):\n",
    "    def __init__(self, json_path, transform=None):\n",
    "        self.transform=transform\n",
    "        with open(json_path,'r') as f:\n",
    "            self.json_data=json.load(f)\n",
    "        \n",
    "        self.label=[]\n",
    "        self.data=[]\n",
    "\n",
    "        for value in self.json_data:\n",
    "            self.data.append(value)\n",
    "            self.label.append(DICT[str(value.split('/')[3])])\n",
    "\n",
    "    def __len__(self):\n",
    "        return len(self.label)\n",
    "    \n",
    "    def __getitem__(self, index):\n",
    "        image_path=self.data[index]\n",
    "        image=cv2.imread(image_path)\n",
    "        image=image.transpose(2,0,1)\n",
    "        label=self.label[index]\n",
    "        \n",
    "\n",
    "        return image,label"
   ]
  },
  {
   "cell_type": "code",
   "execution_count": 8,
   "metadata": {},
   "outputs": [],
   "source": [
    "TRAIN_PATH=\"./jsons/train_truck_x.json\"\n",
    "NUM_BATCH=64\n",
    "EPOCHS=50\n",
    "LEARNING_RATE=5e-4\n",
    "DEVICE=\"cuda:0\" "
   ]
  },
  {
   "cell_type": "code",
   "execution_count": 9,
   "metadata": {},
   "outputs": [],
   "source": [
    "train_data=Dataset(TRAIN_PATH)\n",
    "train_size=len(train_data)\n",
    "\n",
    "train_dataset, validation_dataset = random_split(train_data, [int(train_size*0.9),train_size-int(train_size*0.9)])\n",
    "\n",
    "train_dataloader=DataLoader(train_dataset,batch_size=NUM_BATCH)\n",
    "validation_dataloader=DataLoader(validation_dataset,batch_size=NUM_BATCH)"
   ]
  },
  {
   "cell_type": "code",
   "execution_count": 10,
   "metadata": {},
   "outputs": [],
   "source": [
    "def validate(model, data):\n",
    "    total =0\n",
    "    correct=0\n",
    "\n",
    "    with torch.no_grad():\n",
    "        for(images, labels) in data:\n",
    "            images=images.type(torch.cuda.FloatTensor)\n",
    "            images=images.to(DEVICE)\n",
    "            labels=labels.to(DEVICE)\n",
    "            x=model(images)\n",
    "            pred=torch.argmax(x,1)\n",
    "            total += x.size(0)\n",
    "            correct += torch.sum(pred==labels)\n",
    "            \n",
    "    return correct*100/total"
   ]
  },
  {
   "cell_type": "code",
   "execution_count": 11,
   "metadata": {},
   "outputs": [],
   "source": [
    "def train(num_epoch=EPOCHS, lr=LEARNING_RATE, device=DEVICE):\n",
    "    now_model=model.to(device)\n",
    "    cel=nn.CrossEntropyLoss()\n",
    "    optimizer=optim.Adam(now_model.parameters(),lr=lr,weight_decay=0)\n",
    "\n",
    "    max_accuracy=0\n",
    "    \n",
    "    for epoch in range(num_epoch):\n",
    "        for _, (images,labels) in tqdm(enumerate(train_dataloader)):\n",
    "            if _ ==epoch:\n",
    "                hi=images[0].detach().cpu().numpy()\n",
    "                hi=hi.transpose(1,2,0)\n",
    "                cv2.imwrite(\"./hi.png\",hi)\n",
    "\n",
    "            images=images.type(torch.cuda.FloatTensor)\n",
    "            images=images.to(device)\n",
    "            labels=labels.to(device)\n",
    "\n",
    "            optimizer.zero_grad()\n",
    "            pred=now_model(images)\n",
    "            loss=cel(pred,labels)  \n",
    "            loss.backward()\n",
    "            optimizer.step()\n",
    "\n",
    "        print(\"\\n\\n==================Let's validation!!==================\")\n",
    "        accuracy=float(validate(now_model,validation_dataloader))\n",
    "        print(\"Epoch: \",epoch+1,\"Accuracy: \",accuracy,\"%\",\"   loss : \",loss.item())\n",
    "        \n",
    "        if accuracy>max_accuracy:\n",
    "            torch.save(now_model,'HOPE.pt')\n",
    "            max_accuracy=accuracy\n",
    "            print(\"find best!\")"
   ]
  },
  {
   "cell_type": "code",
   "execution_count": 12,
   "metadata": {},
   "outputs": [
    {
     "name": "stderr",
     "output_type": "stream",
     "text": [
      "633it [00:29, 21.79it/s]\n"
     ]
    },
    {
     "name": "stdout",
     "output_type": "stream",
     "text": [
      "\n",
      "\n",
      "==================Let's validation!!==================\n",
      "Epoch:  1 Accuracy:  76.42222595214844 %    loss :  0.5730442404747009\n",
      "find best!\n"
     ]
    },
    {
     "name": "stderr",
     "output_type": "stream",
     "text": [
      "633it [00:28, 22.48it/s]\n"
     ]
    },
    {
     "name": "stdout",
     "output_type": "stream",
     "text": [
      "\n",
      "\n",
      "==================Let's validation!!==================\n",
      "Epoch:  2 Accuracy:  78.24444580078125 %    loss :  0.41422611474990845\n",
      "find best!\n"
     ]
    },
    {
     "name": "stderr",
     "output_type": "stream",
     "text": [
      "633it [00:27, 22.95it/s]\n"
     ]
    },
    {
     "name": "stdout",
     "output_type": "stream",
     "text": [
      "\n",
      "\n",
      "==================Let's validation!!==================\n",
      "Epoch:  3 Accuracy:  79.15555572509766 %    loss :  0.19290421903133392\n",
      "find best!\n"
     ]
    },
    {
     "name": "stderr",
     "output_type": "stream",
     "text": [
      "633it [00:26, 23.51it/s]\n"
     ]
    },
    {
     "name": "stdout",
     "output_type": "stream",
     "text": [
      "\n",
      "\n",
      "==================Let's validation!!==================\n",
      "Epoch:  4 Accuracy:  71.5777816772461 %    loss :  0.48000943660736084\n"
     ]
    },
    {
     "name": "stderr",
     "output_type": "stream",
     "text": [
      "633it [00:27, 23.39it/s]\n"
     ]
    },
    {
     "name": "stdout",
     "output_type": "stream",
     "text": [
      "\n",
      "\n",
      "==================Let's validation!!==================\n",
      "Epoch:  5 Accuracy:  80.62222290039062 %    loss :  0.17844152450561523\n",
      "find best!\n"
     ]
    },
    {
     "name": "stderr",
     "output_type": "stream",
     "text": [
      "633it [00:24, 26.25it/s]\n"
     ]
    },
    {
     "name": "stdout",
     "output_type": "stream",
     "text": [
      "\n",
      "\n",
      "==================Let's validation!!==================\n",
      "Epoch:  6 Accuracy:  80.55555725097656 %    loss :  0.18015941977500916\n"
     ]
    },
    {
     "name": "stderr",
     "output_type": "stream",
     "text": [
      "633it [00:24, 26.23it/s]\n"
     ]
    },
    {
     "name": "stdout",
     "output_type": "stream",
     "text": [
      "\n",
      "\n",
      "==================Let's validation!!==================\n",
      "Epoch:  7 Accuracy:  81.24444580078125 %    loss :  0.08179721236228943\n",
      "find best!\n"
     ]
    },
    {
     "name": "stderr",
     "output_type": "stream",
     "text": [
      "633it [00:23, 26.72it/s]\n"
     ]
    },
    {
     "name": "stdout",
     "output_type": "stream",
     "text": [
      "\n",
      "\n",
      "==================Let's validation!!==================\n",
      "Epoch:  8 Accuracy:  81.02222442626953 %    loss :  0.01815643720328808\n"
     ]
    },
    {
     "name": "stderr",
     "output_type": "stream",
     "text": [
      "633it [00:26, 24.11it/s]\n"
     ]
    },
    {
     "name": "stdout",
     "output_type": "stream",
     "text": [
      "\n",
      "\n",
      "==================Let's validation!!==================\n",
      "Epoch:  9 Accuracy:  80.77777862548828 %    loss :  0.11967980861663818\n"
     ]
    },
    {
     "name": "stderr",
     "output_type": "stream",
     "text": [
      "633it [00:26, 23.53it/s]\n"
     ]
    },
    {
     "name": "stdout",
     "output_type": "stream",
     "text": [
      "\n",
      "\n",
      "==================Let's validation!!==================\n",
      "Epoch:  10 Accuracy:  81.71111297607422 %    loss :  0.1913396567106247\n",
      "find best!\n"
     ]
    },
    {
     "name": "stderr",
     "output_type": "stream",
     "text": [
      "633it [00:26, 24.14it/s]\n"
     ]
    },
    {
     "name": "stdout",
     "output_type": "stream",
     "text": [
      "\n",
      "\n",
      "==================Let's validation!!==================\n",
      "Epoch:  11 Accuracy:  81.97777557373047 %    loss :  0.014688683673739433\n",
      "find best!\n"
     ]
    },
    {
     "name": "stderr",
     "output_type": "stream",
     "text": [
      "633it [00:27, 23.12it/s]\n"
     ]
    },
    {
     "name": "stdout",
     "output_type": "stream",
     "text": [
      "\n",
      "\n",
      "==================Let's validation!!==================\n",
      "Epoch:  12 Accuracy:  82.17778015136719 %    loss :  0.03209720551967621\n",
      "find best!\n"
     ]
    },
    {
     "name": "stderr",
     "output_type": "stream",
     "text": [
      "633it [00:25, 25.17it/s]\n"
     ]
    },
    {
     "name": "stdout",
     "output_type": "stream",
     "text": [
      "\n",
      "\n",
      "==================Let's validation!!==================\n",
      "Epoch:  13 Accuracy:  81.80000305175781 %    loss :  0.01584726572036743\n"
     ]
    },
    {
     "name": "stderr",
     "output_type": "stream",
     "text": [
      "633it [00:26, 24.14it/s]\n"
     ]
    },
    {
     "name": "stdout",
     "output_type": "stream",
     "text": [
      "\n",
      "\n",
      "==================Let's validation!!==================\n",
      "Epoch:  14 Accuracy:  81.95555877685547 %    loss :  0.03500204160809517\n"
     ]
    },
    {
     "name": "stderr",
     "output_type": "stream",
     "text": [
      "633it [00:21, 28.91it/s]\n"
     ]
    },
    {
     "name": "stdout",
     "output_type": "stream",
     "text": [
      "\n",
      "\n",
      "==================Let's validation!!==================\n",
      "Epoch:  15 Accuracy:  81.02222442626953 %    loss :  0.09316033869981766\n"
     ]
    },
    {
     "name": "stderr",
     "output_type": "stream",
     "text": [
      "633it [00:23, 26.46it/s]\n"
     ]
    },
    {
     "name": "stdout",
     "output_type": "stream",
     "text": [
      "\n",
      "\n",
      "==================Let's validation!!==================\n",
      "Epoch:  16 Accuracy:  81.02222442626953 %    loss :  0.07895223051309586\n"
     ]
    },
    {
     "name": "stderr",
     "output_type": "stream",
     "text": [
      "633it [00:24, 25.42it/s]\n"
     ]
    },
    {
     "name": "stdout",
     "output_type": "stream",
     "text": [
      "\n",
      "\n",
      "==================Let's validation!!==================\n",
      "Epoch:  17 Accuracy:  80.73333740234375 %    loss :  0.056420836597681046\n"
     ]
    },
    {
     "name": "stderr",
     "output_type": "stream",
     "text": [
      "633it [00:24, 25.72it/s]\n"
     ]
    },
    {
     "name": "stdout",
     "output_type": "stream",
     "text": [
      "\n",
      "\n",
      "==================Let's validation!!==================\n",
      "Epoch:  18 Accuracy:  82.55555725097656 %    loss :  0.0034190493170171976\n",
      "find best!\n"
     ]
    },
    {
     "name": "stderr",
     "output_type": "stream",
     "text": [
      "633it [00:24, 25.83it/s]\n"
     ]
    },
    {
     "name": "stdout",
     "output_type": "stream",
     "text": [
      "\n",
      "\n",
      "==================Let's validation!!==================\n",
      "Epoch:  19 Accuracy:  82.31111145019531 %    loss :  0.02152135968208313\n"
     ]
    },
    {
     "name": "stderr",
     "output_type": "stream",
     "text": [
      "633it [00:24, 25.80it/s]\n"
     ]
    },
    {
     "name": "stdout",
     "output_type": "stream",
     "text": [
      "\n",
      "\n",
      "==================Let's validation!!==================\n",
      "Epoch:  20 Accuracy:  81.5777816772461 %    loss :  0.040121253579854965\n"
     ]
    },
    {
     "name": "stderr",
     "output_type": "stream",
     "text": [
      "633it [00:24, 25.83it/s]\n"
     ]
    },
    {
     "name": "stdout",
     "output_type": "stream",
     "text": [
      "\n",
      "\n",
      "==================Let's validation!!==================\n",
      "Epoch:  21 Accuracy:  80.8888931274414 %    loss :  0.08445895463228226\n"
     ]
    },
    {
     "name": "stderr",
     "output_type": "stream",
     "text": [
      "633it [00:21, 29.14it/s]\n"
     ]
    },
    {
     "name": "stdout",
     "output_type": "stream",
     "text": [
      "\n",
      "\n",
      "==================Let's validation!!==================\n",
      "Epoch:  22 Accuracy:  80.8888931274414 %    loss :  0.02457049861550331\n"
     ]
    },
    {
     "name": "stderr",
     "output_type": "stream",
     "text": [
      "633it [00:24, 25.93it/s]\n"
     ]
    },
    {
     "name": "stdout",
     "output_type": "stream",
     "text": [
      "\n",
      "\n",
      "==================Let's validation!!==================\n",
      "Epoch:  23 Accuracy:  81.62222290039062 %    loss :  0.0024530773516744375\n"
     ]
    },
    {
     "name": "stderr",
     "output_type": "stream",
     "text": [
      "633it [00:22, 28.28it/s]\n"
     ]
    },
    {
     "name": "stdout",
     "output_type": "stream",
     "text": [
      "\n",
      "\n",
      "==================Let's validation!!==================\n",
      "Epoch:  24 Accuracy:  81.33333587646484 %    loss :  0.005835120566189289\n"
     ]
    },
    {
     "name": "stderr",
     "output_type": "stream",
     "text": [
      "633it [00:25, 24.92it/s]\n"
     ]
    },
    {
     "name": "stdout",
     "output_type": "stream",
     "text": [
      "\n",
      "\n",
      "==================Let's validation!!==================\n",
      "Epoch:  25 Accuracy:  81.4888916015625 %    loss :  0.13485926389694214\n"
     ]
    },
    {
     "name": "stderr",
     "output_type": "stream",
     "text": [
      "633it [00:21, 28.90it/s]\n"
     ]
    },
    {
     "name": "stdout",
     "output_type": "stream",
     "text": [
      "\n",
      "\n",
      "==================Let's validation!!==================\n",
      "Epoch:  26 Accuracy:  82.33333587646484 %    loss :  0.005981908179819584\n"
     ]
    },
    {
     "name": "stderr",
     "output_type": "stream",
     "text": [
      "633it [00:24, 26.05it/s]\n"
     ]
    },
    {
     "name": "stdout",
     "output_type": "stream",
     "text": [
      "\n",
      "\n",
      "==================Let's validation!!==================\n",
      "Epoch:  27 Accuracy:  81.75555419921875 %    loss :  0.04751644283533096\n"
     ]
    },
    {
     "name": "stderr",
     "output_type": "stream",
     "text": [
      "633it [00:23, 27.26it/s]\n"
     ]
    },
    {
     "name": "stdout",
     "output_type": "stream",
     "text": [
      "\n",
      "\n",
      "==================Let's validation!!==================\n",
      "Epoch:  28 Accuracy:  82.5777816772461 %    loss :  0.04106447473168373\n",
      "find best!\n"
     ]
    },
    {
     "name": "stderr",
     "output_type": "stream",
     "text": [
      "633it [00:24, 26.26it/s]\n"
     ]
    },
    {
     "name": "stdout",
     "output_type": "stream",
     "text": [
      "\n",
      "\n",
      "==================Let's validation!!==================\n",
      "Epoch:  29 Accuracy:  82.04444885253906 %    loss :  0.07434707134962082\n"
     ]
    },
    {
     "name": "stderr",
     "output_type": "stream",
     "text": [
      "633it [00:24, 25.93it/s]\n"
     ]
    },
    {
     "name": "stdout",
     "output_type": "stream",
     "text": [
      "\n",
      "\n",
      "==================Let's validation!!==================\n",
      "Epoch:  30 Accuracy:  83.31111145019531 %    loss :  0.004485122859477997\n",
      "find best!\n"
     ]
    },
    {
     "name": "stderr",
     "output_type": "stream",
     "text": [
      "633it [00:25, 24.81it/s]\n"
     ]
    },
    {
     "name": "stdout",
     "output_type": "stream",
     "text": [
      "\n",
      "\n",
      "==================Let's validation!!==================\n",
      "Epoch:  31 Accuracy:  82.0888900756836 %    loss :  0.08515496551990509\n"
     ]
    },
    {
     "name": "stderr",
     "output_type": "stream",
     "text": [
      "633it [00:24, 25.56it/s]\n"
     ]
    },
    {
     "name": "stdout",
     "output_type": "stream",
     "text": [
      "\n",
      "\n",
      "==================Let's validation!!==================\n",
      "Epoch:  32 Accuracy:  82.71111297607422 %    loss :  0.00046256493078544736\n"
     ]
    },
    {
     "name": "stderr",
     "output_type": "stream",
     "text": [
      "633it [00:26, 23.70it/s]\n"
     ]
    },
    {
     "name": "stdout",
     "output_type": "stream",
     "text": [
      "\n",
      "\n",
      "==================Let's validation!!==================\n",
      "Epoch:  33 Accuracy:  78.93333435058594 %    loss :  0.007552814669907093\n"
     ]
    },
    {
     "name": "stderr",
     "output_type": "stream",
     "text": [
      "633it [00:24, 25.45it/s]\n"
     ]
    },
    {
     "name": "stdout",
     "output_type": "stream",
     "text": [
      "\n",
      "\n",
      "==================Let's validation!!==================\n",
      "Epoch:  34 Accuracy:  83.02222442626953 %    loss :  0.02063652127981186\n"
     ]
    },
    {
     "name": "stderr",
     "output_type": "stream",
     "text": [
      "633it [00:27, 23.12it/s]\n"
     ]
    },
    {
     "name": "stdout",
     "output_type": "stream",
     "text": [
      "\n",
      "\n",
      "==================Let's validation!!==================\n",
      "Epoch:  35 Accuracy:  82.84444427490234 %    loss :  0.00022231937327887863\n"
     ]
    },
    {
     "name": "stderr",
     "output_type": "stream",
     "text": [
      "633it [00:22, 28.00it/s]\n"
     ]
    },
    {
     "name": "stdout",
     "output_type": "stream",
     "text": [
      "\n",
      "\n",
      "==================Let's validation!!==================\n",
      "Epoch:  36 Accuracy:  81.80000305175781 %    loss :  0.01864767074584961\n"
     ]
    },
    {
     "name": "stderr",
     "output_type": "stream",
     "text": [
      "633it [00:23, 27.20it/s]\n"
     ]
    },
    {
     "name": "stdout",
     "output_type": "stream",
     "text": [
      "\n",
      "\n",
      "==================Let's validation!!==================\n",
      "Epoch:  37 Accuracy:  82.4888916015625 %    loss :  0.0621197484433651\n"
     ]
    },
    {
     "name": "stderr",
     "output_type": "stream",
     "text": [
      "633it [00:22, 28.65it/s]\n"
     ]
    },
    {
     "name": "stdout",
     "output_type": "stream",
     "text": [
      "\n",
      "\n",
      "==================Let's validation!!==================\n",
      "Epoch:  38 Accuracy:  82.13333129882812 %    loss :  0.007566513493657112\n"
     ]
    },
    {
     "name": "stderr",
     "output_type": "stream",
     "text": [
      "633it [00:22, 27.79it/s]\n"
     ]
    },
    {
     "name": "stdout",
     "output_type": "stream",
     "text": [
      "\n",
      "\n",
      "==================Let's validation!!==================\n",
      "Epoch:  39 Accuracy:  83.06666564941406 %    loss :  0.0002764863893389702\n"
     ]
    },
    {
     "name": "stderr",
     "output_type": "stream",
     "text": [
      "633it [00:21, 28.82it/s]\n"
     ]
    },
    {
     "name": "stdout",
     "output_type": "stream",
     "text": [
      "\n",
      "\n",
      "==================Let's validation!!==================\n",
      "Epoch:  40 Accuracy:  82.9111099243164 %    loss :  0.0004433748545125127\n"
     ]
    },
    {
     "name": "stderr",
     "output_type": "stream",
     "text": [
      "633it [00:22, 28.11it/s]\n"
     ]
    },
    {
     "name": "stdout",
     "output_type": "stream",
     "text": [
      "\n",
      "\n",
      "==================Let's validation!!==================\n",
      "Epoch:  41 Accuracy:  83.15555572509766 %    loss :  0.05785157531499863\n"
     ]
    },
    {
     "name": "stderr",
     "output_type": "stream",
     "text": [
      "633it [00:21, 28.77it/s]\n"
     ]
    },
    {
     "name": "stdout",
     "output_type": "stream",
     "text": [
      "\n",
      "\n",
      "==================Let's validation!!==================\n",
      "Epoch:  42 Accuracy:  82.46666717529297 %    loss :  0.015941929072141647\n"
     ]
    },
    {
     "name": "stderr",
     "output_type": "stream",
     "text": [
      "633it [00:21, 28.79it/s]\n"
     ]
    },
    {
     "name": "stdout",
     "output_type": "stream",
     "text": [
      "\n",
      "\n",
      "==================Let's validation!!==================\n",
      "Epoch:  43 Accuracy:  82.8888931274414 %    loss :  0.006680176127701998\n"
     ]
    },
    {
     "name": "stderr",
     "output_type": "stream",
     "text": [
      "633it [00:24, 25.65it/s]\n"
     ]
    },
    {
     "name": "stdout",
     "output_type": "stream",
     "text": [
      "\n",
      "\n",
      "==================Let's validation!!==================\n",
      "Epoch:  44 Accuracy:  82.06666564941406 %    loss :  0.0543716624379158\n"
     ]
    },
    {
     "name": "stderr",
     "output_type": "stream",
     "text": [
      "633it [00:23, 27.39it/s]\n"
     ]
    },
    {
     "name": "stdout",
     "output_type": "stream",
     "text": [
      "\n",
      "\n",
      "==================Let's validation!!==================\n",
      "Epoch:  45 Accuracy:  82.35555267333984 %    loss :  0.03693760186433792\n"
     ]
    },
    {
     "name": "stderr",
     "output_type": "stream",
     "text": [
      "633it [00:24, 25.60it/s]\n"
     ]
    },
    {
     "name": "stdout",
     "output_type": "stream",
     "text": [
      "\n",
      "\n",
      "==================Let's validation!!==================\n",
      "Epoch:  46 Accuracy:  83.11111450195312 %    loss :  0.0005207931972108781\n"
     ]
    },
    {
     "name": "stderr",
     "output_type": "stream",
     "text": [
      "633it [00:22, 28.06it/s]\n"
     ]
    },
    {
     "name": "stdout",
     "output_type": "stream",
     "text": [
      "\n",
      "\n",
      "==================Let's validation!!==================\n",
      "Epoch:  47 Accuracy:  82.4888916015625 %    loss :  0.10442488640546799\n"
     ]
    },
    {
     "name": "stderr",
     "output_type": "stream",
     "text": [
      "633it [00:24, 26.26it/s]\n"
     ]
    },
    {
     "name": "stdout",
     "output_type": "stream",
     "text": [
      "\n",
      "\n",
      "==================Let's validation!!==================\n",
      "Epoch:  48 Accuracy:  82.64444732666016 %    loss :  0.00026628177147358656\n"
     ]
    },
    {
     "name": "stderr",
     "output_type": "stream",
     "text": [
      "633it [00:22, 28.77it/s]\n"
     ]
    },
    {
     "name": "stdout",
     "output_type": "stream",
     "text": [
      "\n",
      "\n",
      "==================Let's validation!!==================\n",
      "Epoch:  49 Accuracy:  82.02222442626953 %    loss :  0.0663137212395668\n"
     ]
    },
    {
     "name": "stderr",
     "output_type": "stream",
     "text": [
      "633it [00:22, 27.76it/s]\n"
     ]
    },
    {
     "name": "stdout",
     "output_type": "stream",
     "text": [
      "\n",
      "\n",
      "==================Let's validation!!==================\n",
      "Epoch:  50 Accuracy:  82.42222595214844 %    loss :  0.0012002082075923681\n"
     ]
    }
   ],
   "source": [
    "train()"
   ]
  },
  {
   "cell_type": "code",
   "execution_count": null,
   "metadata": {},
   "outputs": [],
   "source": []
  }
 ],
 "metadata": {
  "kernelspec": {
   "display_name": "base",
   "language": "python",
   "name": "python3"
  },
  "language_info": {
   "codemirror_mode": {
    "name": "ipython",
    "version": 3
   },
   "file_extension": ".py",
   "mimetype": "text/x-python",
   "name": "python",
   "nbconvert_exporter": "python",
   "pygments_lexer": "ipython3",
   "version": "3.9.7"
  },
  "orig_nbformat": 4
 },
 "nbformat": 4,
 "nbformat_minor": 2
}
