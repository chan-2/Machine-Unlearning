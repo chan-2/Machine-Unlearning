{
 "cells": [
  {
   "cell_type": "code",
   "execution_count": 1,
   "metadata": {},
   "outputs": [],
   "source": [
    "import pickle\n",
    "import numpy as np\n",
    "import cv2\n",
    "import os"
   ]
  },
  {
   "cell_type": "code",
   "execution_count": 2,
   "metadata": {},
   "outputs": [],
   "source": [
    "def unpickle(file):\n",
    "    with open(file, 'rb') as fo:\n",
    "        myDict = pickle.load(fo, encoding='latin1')\n",
    "    return myDict"
   ]
  },
  {
   "cell_type": "code",
   "execution_count": 11,
   "metadata": {},
   "outputs": [
    {
     "name": "stdout",
     "output_type": "stream",
     "text": [
      "num_cases_per_batch <class 'int'>\n",
      "label_names <class 'list'>\n",
      "num_vis <class 'int'>\n",
      "Labels: ['airplane', 'automobile', 'bird', 'cat', 'deer', 'dog', 'frog', 'horse', 'ship', 'truck'] \n",
      "\n"
     ]
    }
   ],
   "source": [
    "#testData = unpickle('test')\n",
    "metaData = unpickle('./cifar-10-batches-py/batches.meta')\n",
    "for item in metaData:\n",
    "    print(item, type(metaData[item]))\n",
    "print(\"Labels:\", metaData['label_names'], \"\\n\")\n",
    "labels= metaData['label_names']"
   ]
  },
  {
   "cell_type": "code",
   "execution_count": 20,
   "metadata": {},
   "outputs": [],
   "source": [
    "# for i in metaData['label_names']:\n",
    "#     os.mkdir(\"./data/train/\"+str(i))"
   ]
  },
  {
   "cell_type": "code",
   "execution_count": 37,
   "metadata": {},
   "outputs": [
    {
     "name": "stdout",
     "output_type": "stream",
     "text": [
      "batch_label <class 'str'>\n",
      "labels <class 'list'>\n",
      "data <class 'numpy.ndarray'>\n",
      "filenames <class 'list'>\n"
     ]
    }
   ],
   "source": [
    "trainData = unpickle('./cifar-10-batches-py/data_batch_5')\n",
    "for item in trainData:\n",
    "    print(item, type(trainData[item]))"
   ]
  },
  {
   "cell_type": "code",
   "execution_count": 38,
   "metadata": {},
   "outputs": [
    {
     "data": {
      "text/plain": [
       "10000"
      ]
     },
     "execution_count": 38,
     "metadata": {},
     "output_type": "execute_result"
    }
   ],
   "source": [
    "len(trainData['data'])"
   ]
  },
  {
   "cell_type": "code",
   "execution_count": 39,
   "metadata": {},
   "outputs": [],
   "source": [
    "trainData['data']=trainData['data'].reshape(len(trainData['data']),3,32,32).transpose((0,2,3,1))"
   ]
  },
  {
   "cell_type": "code",
   "execution_count": 40,
   "metadata": {},
   "outputs": [],
   "source": [
    "# For TRAIN\n",
    "for i in range(0,len(trainData['data'])):\n",
    "    num=trainData['labels'][i]\n",
    "    path=\"./data/train/\"+str(labels[num])+\"/\"+str(i+40000)+\".png\"\n",
    "    trainData['data'][i]=cv2.cvtColor(trainData['data'][i],cv2.COLOR_BGR2RGB)\n",
    "    cv2.imwrite(path,trainData['data'][i])"
   ]
  },
  {
   "cell_type": "code",
   "execution_count": 41,
   "metadata": {},
   "outputs": [
    {
     "name": "stdout",
     "output_type": "stream",
     "text": [
      "batch_label <class 'str'>\n",
      "labels <class 'list'>\n",
      "data <class 'numpy.ndarray'>\n",
      "filenames <class 'list'>\n"
     ]
    }
   ],
   "source": [
    "testData = unpickle('./cifar-10-batches-py/test_batch')\n",
    "for item in testData:\n",
    "    print(item, type(testData[item]))"
   ]
  },
  {
   "cell_type": "code",
   "execution_count": 42,
   "metadata": {},
   "outputs": [],
   "source": [
    "testData['data']=testData['data'].reshape(len(testData['data']),3,32,32).transpose((0,2,3,1))"
   ]
  },
  {
   "cell_type": "code",
   "execution_count": 43,
   "metadata": {},
   "outputs": [],
   "source": [
    "# For TEST\n",
    "for i in range(0,len(testData['data'])):\n",
    "    num=testData['labels'][i]\n",
    "    path=\"./data/test/\"+str(labels[num])+\"/\"+str(i)+\".png\"\n",
    "    testData['data'][i]=cv2.cvtColor(testData['data'][i],cv2.COLOR_BGR2RGB)\n",
    "    cv2.imwrite(path,testData['data'][i])"
   ]
  },
  {
   "cell_type": "code",
   "execution_count": null,
   "metadata": {},
   "outputs": [],
   "source": []
  }
 ],
 "metadata": {
  "kernelspec": {
   "display_name": "base",
   "language": "python",
   "name": "python3"
  },
  "language_info": {
   "codemirror_mode": {
    "name": "ipython",
    "version": 3
   },
   "file_extension": ".py",
   "mimetype": "text/x-python",
   "name": "python",
   "nbconvert_exporter": "python",
   "pygments_lexer": "ipython3",
   "version": "3.9.7"
  },
  "orig_nbformat": 4
 },
 "nbformat": 4,
 "nbformat_minor": 2
}
