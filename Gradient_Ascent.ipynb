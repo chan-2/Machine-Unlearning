{
 "cells": [
  {
   "cell_type": "code",
   "execution_count": 1,
   "metadata": {},
   "outputs": [],
   "source": [
    "from torchvision.models import resnet18\n",
    "import torch\n",
    "\n",
    "from torch.utils.data import Dataset, DataLoader, random_split\n",
    "import torch.nn as nn\n",
    "import numpy as np\n",
    "import cv2\n",
    "from sklearn.metrics import classification_report\n",
    "\n",
    "from torch import optim\n",
    "from tqdm import tqdm\n",
    "\n",
    "import json\n",
    "\n",
    "import pickle"
   ]
  },
  {
   "cell_type": "code",
   "execution_count": 29,
   "metadata": {},
   "outputs": [],
   "source": [
    "TRAIN_PATH=\"./jsons/train_truck.json\"\n",
    "TEST_PATH=\"./jsons/test_all.json\"\n",
    "NUM_BATCH=64\n",
    "EPOCHS=55\n",
    "LEARNING_RATE=1e-7\n",
    "DEVICE=\"cuda:1\" "
   ]
  },
  {
   "cell_type": "code",
   "execution_count": 30,
   "metadata": {},
   "outputs": [],
   "source": [
    "def unpickle(file):\n",
    "    with open(file, 'rb') as fo:\n",
    "        myDict = pickle.load(fo, encoding='latin1')\n",
    "    return myDict\n",
    "\n",
    "metaData = unpickle('./cifar-10-batches-py/batches.meta')\n",
    "labels=metaData['label_names']\n",
    "\n",
    "DICT={}\n",
    "INV=[]\n",
    "idx=0\n",
    "for i in labels:\n",
    "    INV.append(i)\n",
    "    DICT[i]=idx\n",
    "    idx+=1"
   ]
  },
  {
   "cell_type": "code",
   "execution_count": 31,
   "metadata": {},
   "outputs": [],
   "source": [
    "class Dataset(Dataset):\n",
    "    def __init__(self, json_path, transform=None):\n",
    "        self.transform=transform\n",
    "        with open(json_path,'r') as f:\n",
    "            self.json_data=json.load(f)\n",
    "        \n",
    "        self.label=[]\n",
    "        self.data=[]\n",
    "\n",
    "        for value in self.json_data:\n",
    "            self.data.append(value)\n",
    "            self.label.append(DICT[str(value.split('/')[3])])\n",
    "\n",
    "    def __len__(self):\n",
    "        return len(self.label)\n",
    "    \n",
    "    def __getitem__(self, index):\n",
    "        image_path=self.data[index]\n",
    "        image=cv2.imread(image_path)\n",
    "        image=image.transpose(2,0,1)\n",
    "        label=self.label[index]\n",
    "        \n",
    "\n",
    "        return image,label"
   ]
  },
  {
   "cell_type": "code",
   "execution_count": 32,
   "metadata": {},
   "outputs": [],
   "source": [
    "train_data=Dataset(TRAIN_PATH)\n",
    "train_size=len(train_data)\n",
    "\n",
    "train_dataset, validation_dataset = random_split(train_data, [int(train_size*0.9),train_size-int(train_size*0.9)],generator=torch.Generator().manual_seed(0))\n",
    "\n",
    "train_dataloader=DataLoader(train_dataset,batch_size=NUM_BATCH,shuffle=False)\n",
    "validation_dataloader=DataLoader(validation_dataset,batch_size=NUM_BATCH,shuffle=False)\n",
    "\n",
    "test_data=Dataset(TEST_PATH)\n",
    "test_dataloader=DataLoader(test_data, batch_size=NUM_BATCH,shuffle=True)"
   ]
  },
  {
   "cell_type": "code",
   "execution_count": 33,
   "metadata": {},
   "outputs": [],
   "source": [
    "def TEST(model):\n",
    "    ans=[]\n",
    "    ANS=[]\n",
    "    HI=[0 for _ in range(10)]\n",
    "    SS=0\n",
    "    with torch.no_grad():\n",
    "        for(images, labels) in test_dataloader:\n",
    "            images=images.type(torch.cuda.FloatTensor)\n",
    "            images=images.to(DEVICE)\n",
    "            labels=labels.to(DEVICE)\n",
    "            x=model(images)\n",
    "            x=x.cpu().numpy()\n",
    "            labels=labels.cpu().numpy()\n",
    "            pred=np.argmax(x,1) \n",
    "            ans.extend(pred)\n",
    "            ANS.extend(labels)\n",
    "    for i in range(0,len(ans)):\n",
    "        if ANS[i]==ans[i]:\n",
    "            HI[ANS[i]]+=1\n",
    "    for i in range(0,10):\n",
    "        SS+=HI[i]\n",
    "        print(INV[i]+\": \"+str(HI[i])+\"/1000\")\n",
    "    print(\"acc : \",SS/9000)\n",
    "\n",
    "    #print(classification_report(ANS, ans,zero_division=0,target_names=INV))"
   ]
  },
  {
   "cell_type": "code",
   "execution_count": 35,
   "metadata": {},
   "outputs": [],
   "source": [
    "def train(now_model,num_epoch=EPOCHS, lr=LEARNING_RATE, device=DEVICE):\n",
    "    now_model=now_model.to(device)\n",
    "        \n",
    "    cel=nn.CrossEntropyLoss()\n",
    "    optimizer=optim.Adam(now_model.parameters(),lr=lr,weight_decay=0)\n",
    "\n",
    "    \n",
    "    for epoch in range(num_epoch):\n",
    "        # ha sibal why it needed???\n",
    "        now_model.eval()\n",
    "        for i, (images,labels) in tqdm(enumerate(train_dataloader)):\n",
    "                \n",
    "            images=images.type(torch.cuda.FloatTensor)\n",
    "            images=images.to(device)\n",
    "            labels=labels.to(device)\n",
    "            \n",
    "            optimizer.zero_grad()\n",
    "            pred=now_model(images)\n",
    "            loss=cel(pred,labels) \n",
    "            loss=-loss\n",
    "            loss.backward()\n",
    "            optimizer.step()\n",
    "        \n",
    "        ans=[]\n",
    "        ANS=[]\n",
    "        with torch.no_grad():\n",
    "            for(images, labels) in validation_dataloader:\n",
    "                images=images.type(torch.cuda.FloatTensor)\n",
    "                images=images.to(DEVICE)\n",
    "                labels=labels.to(DEVICE)\n",
    "                x=now_model(images)\n",
    "                x=x.cpu().numpy()\n",
    "                labels=labels.cpu().numpy()\n",
    "                pred=np.argmax(x,1) \n",
    "                ans.extend(pred)\n",
    "                ANS.extend(labels)\n",
    "        ans=np.array(ans)\n",
    "        ANS=np.array(ANS)\n",
    "\n",
    "        print(\"Epoch: \",epoch+1,\"Accuracy: \",np.mean(ans==ANS)*100,\"%\",\"   loss : \",-loss.item())\n",
    "        TEST(now_model)\n",
    "    \n",
    "    torch.save(now_model,'truck70.pt')"
   ]
  },
  {
   "cell_type": "code",
   "execution_count": 36,
   "metadata": {},
   "outputs": [],
   "source": [
    "hi=torch.load('./HOPE.pt')"
   ]
  },
  {
   "cell_type": "code",
   "execution_count": 37,
   "metadata": {},
   "outputs": [
    {
     "name": "stdout",
     "output_type": "stream",
     "text": [
      "ResNet(\n",
      "  (conv1): Conv2d(3, 64, kernel_size=(7, 7), stride=(2, 2), padding=(3, 3), bias=False)\n",
      "  (bn1): BatchNorm2d(64, eps=1e-05, momentum=0.1, affine=True, track_running_stats=True)\n",
      "  (relu): ReLU(inplace=True)\n",
      "  (maxpool): MaxPool2d(kernel_size=3, stride=2, padding=1, dilation=1, ceil_mode=False)\n",
      "  (layer1): Sequential(\n",
      "    (0): Bottleneck(\n",
      "      (conv1): Conv2d(64, 64, kernel_size=(1, 1), stride=(1, 1), bias=False)\n",
      "      (bn1): BatchNorm2d(64, eps=1e-05, momentum=0.1, affine=True, track_running_stats=True)\n",
      "      (conv2): Conv2d(64, 64, kernel_size=(3, 3), stride=(1, 1), padding=(1, 1), bias=False)\n",
      "      (bn2): BatchNorm2d(64, eps=1e-05, momentum=0.1, affine=True, track_running_stats=True)\n",
      "      (conv3): Conv2d(64, 256, kernel_size=(1, 1), stride=(1, 1), bias=False)\n",
      "      (bn3): BatchNorm2d(256, eps=1e-05, momentum=0.1, affine=True, track_running_stats=True)\n",
      "      (relu): ReLU(inplace=True)\n",
      "      (downsample): Sequential(\n",
      "        (0): Conv2d(64, 256, kernel_size=(1, 1), stride=(1, 1), bias=False)\n",
      "        (1): BatchNorm2d(256, eps=1e-05, momentum=0.1, affine=True, track_running_stats=True)\n",
      "      )\n",
      "    )\n",
      "    (1): Bottleneck(\n",
      "      (conv1): Conv2d(256, 64, kernel_size=(1, 1), stride=(1, 1), bias=False)\n",
      "      (bn1): BatchNorm2d(64, eps=1e-05, momentum=0.1, affine=True, track_running_stats=True)\n",
      "      (conv2): Conv2d(64, 64, kernel_size=(3, 3), stride=(1, 1), padding=(1, 1), bias=False)\n",
      "      (bn2): BatchNorm2d(64, eps=1e-05, momentum=0.1, affine=True, track_running_stats=True)\n",
      "      (conv3): Conv2d(64, 256, kernel_size=(1, 1), stride=(1, 1), bias=False)\n",
      "      (bn3): BatchNorm2d(256, eps=1e-05, momentum=0.1, affine=True, track_running_stats=True)\n",
      "      (relu): ReLU(inplace=True)\n",
      "    )\n",
      "    (2): Bottleneck(\n",
      "      (conv1): Conv2d(256, 64, kernel_size=(1, 1), stride=(1, 1), bias=False)\n",
      "      (bn1): BatchNorm2d(64, eps=1e-05, momentum=0.1, affine=True, track_running_stats=True)\n",
      "      (conv2): Conv2d(64, 64, kernel_size=(3, 3), stride=(1, 1), padding=(1, 1), bias=False)\n",
      "      (bn2): BatchNorm2d(64, eps=1e-05, momentum=0.1, affine=True, track_running_stats=True)\n",
      "      (conv3): Conv2d(64, 256, kernel_size=(1, 1), stride=(1, 1), bias=False)\n",
      "      (bn3): BatchNorm2d(256, eps=1e-05, momentum=0.1, affine=True, track_running_stats=True)\n",
      "      (relu): ReLU(inplace=True)\n",
      "    )\n",
      "  )\n",
      "  (layer2): Sequential(\n",
      "    (0): Bottleneck(\n",
      "      (conv1): Conv2d(256, 128, kernel_size=(1, 1), stride=(1, 1), bias=False)\n",
      "      (bn1): BatchNorm2d(128, eps=1e-05, momentum=0.1, affine=True, track_running_stats=True)\n",
      "      (conv2): Conv2d(128, 128, kernel_size=(3, 3), stride=(2, 2), padding=(1, 1), bias=False)\n",
      "      (bn2): BatchNorm2d(128, eps=1e-05, momentum=0.1, affine=True, track_running_stats=True)\n",
      "      (conv3): Conv2d(128, 512, kernel_size=(1, 1), stride=(1, 1), bias=False)\n",
      "      (bn3): BatchNorm2d(512, eps=1e-05, momentum=0.1, affine=True, track_running_stats=True)\n",
      "      (relu): ReLU(inplace=True)\n",
      "      (downsample): Sequential(\n",
      "        (0): Conv2d(256, 512, kernel_size=(1, 1), stride=(2, 2), bias=False)\n",
      "        (1): BatchNorm2d(512, eps=1e-05, momentum=0.1, affine=True, track_running_stats=True)\n",
      "      )\n",
      "    )\n",
      "    (1): Bottleneck(\n",
      "      (conv1): Conv2d(512, 128, kernel_size=(1, 1), stride=(1, 1), bias=False)\n",
      "      (bn1): BatchNorm2d(128, eps=1e-05, momentum=0.1, affine=True, track_running_stats=True)\n",
      "      (conv2): Conv2d(128, 128, kernel_size=(3, 3), stride=(1, 1), padding=(1, 1), bias=False)\n",
      "      (bn2): BatchNorm2d(128, eps=1e-05, momentum=0.1, affine=True, track_running_stats=True)\n",
      "      (conv3): Conv2d(128, 512, kernel_size=(1, 1), stride=(1, 1), bias=False)\n",
      "      (bn3): BatchNorm2d(512, eps=1e-05, momentum=0.1, affine=True, track_running_stats=True)\n",
      "      (relu): ReLU(inplace=True)\n",
      "    )\n",
      "    (2): Bottleneck(\n",
      "      (conv1): Conv2d(512, 128, kernel_size=(1, 1), stride=(1, 1), bias=False)\n",
      "      (bn1): BatchNorm2d(128, eps=1e-05, momentum=0.1, affine=True, track_running_stats=True)\n",
      "      (conv2): Conv2d(128, 128, kernel_size=(3, 3), stride=(1, 1), padding=(1, 1), bias=False)\n",
      "      (bn2): BatchNorm2d(128, eps=1e-05, momentum=0.1, affine=True, track_running_stats=True)\n",
      "      (conv3): Conv2d(128, 512, kernel_size=(1, 1), stride=(1, 1), bias=False)\n",
      "      (bn3): BatchNorm2d(512, eps=1e-05, momentum=0.1, affine=True, track_running_stats=True)\n",
      "      (relu): ReLU(inplace=True)\n",
      "    )\n",
      "    (3): Bottleneck(\n",
      "      (conv1): Conv2d(512, 128, kernel_size=(1, 1), stride=(1, 1), bias=False)\n",
      "      (bn1): BatchNorm2d(128, eps=1e-05, momentum=0.1, affine=True, track_running_stats=True)\n",
      "      (conv2): Conv2d(128, 128, kernel_size=(3, 3), stride=(1, 1), padding=(1, 1), bias=False)\n",
      "      (bn2): BatchNorm2d(128, eps=1e-05, momentum=0.1, affine=True, track_running_stats=True)\n",
      "      (conv3): Conv2d(128, 512, kernel_size=(1, 1), stride=(1, 1), bias=False)\n",
      "      (bn3): BatchNorm2d(512, eps=1e-05, momentum=0.1, affine=True, track_running_stats=True)\n",
      "      (relu): ReLU(inplace=True)\n",
      "    )\n",
      "  )\n",
      "  (layer3): Sequential(\n",
      "    (0): Bottleneck(\n",
      "      (conv1): Conv2d(512, 256, kernel_size=(1, 1), stride=(1, 1), bias=False)\n",
      "      (bn1): BatchNorm2d(256, eps=1e-05, momentum=0.1, affine=True, track_running_stats=True)\n",
      "      (conv2): Conv2d(256, 256, kernel_size=(3, 3), stride=(2, 2), padding=(1, 1), bias=False)\n",
      "      (bn2): BatchNorm2d(256, eps=1e-05, momentum=0.1, affine=True, track_running_stats=True)\n",
      "      (conv3): Conv2d(256, 1024, kernel_size=(1, 1), stride=(1, 1), bias=False)\n",
      "      (bn3): BatchNorm2d(1024, eps=1e-05, momentum=0.1, affine=True, track_running_stats=True)\n",
      "      (relu): ReLU(inplace=True)\n",
      "      (downsample): Sequential(\n",
      "        (0): Conv2d(512, 1024, kernel_size=(1, 1), stride=(2, 2), bias=False)\n",
      "        (1): BatchNorm2d(1024, eps=1e-05, momentum=0.1, affine=True, track_running_stats=True)\n",
      "      )\n",
      "    )\n",
      "    (1): Bottleneck(\n",
      "      (conv1): Conv2d(1024, 256, kernel_size=(1, 1), stride=(1, 1), bias=False)\n",
      "      (bn1): BatchNorm2d(256, eps=1e-05, momentum=0.1, affine=True, track_running_stats=True)\n",
      "      (conv2): Conv2d(256, 256, kernel_size=(3, 3), stride=(1, 1), padding=(1, 1), bias=False)\n",
      "      (bn2): BatchNorm2d(256, eps=1e-05, momentum=0.1, affine=True, track_running_stats=True)\n",
      "      (conv3): Conv2d(256, 1024, kernel_size=(1, 1), stride=(1, 1), bias=False)\n",
      "      (bn3): BatchNorm2d(1024, eps=1e-05, momentum=0.1, affine=True, track_running_stats=True)\n",
      "      (relu): ReLU(inplace=True)\n",
      "    )\n",
      "    (2): Bottleneck(\n",
      "      (conv1): Conv2d(1024, 256, kernel_size=(1, 1), stride=(1, 1), bias=False)\n",
      "      (bn1): BatchNorm2d(256, eps=1e-05, momentum=0.1, affine=True, track_running_stats=True)\n",
      "      (conv2): Conv2d(256, 256, kernel_size=(3, 3), stride=(1, 1), padding=(1, 1), bias=False)\n",
      "      (bn2): BatchNorm2d(256, eps=1e-05, momentum=0.1, affine=True, track_running_stats=True)\n",
      "      (conv3): Conv2d(256, 1024, kernel_size=(1, 1), stride=(1, 1), bias=False)\n",
      "      (bn3): BatchNorm2d(1024, eps=1e-05, momentum=0.1, affine=True, track_running_stats=True)\n",
      "      (relu): ReLU(inplace=True)\n",
      "    )\n",
      "    (3): Bottleneck(\n",
      "      (conv1): Conv2d(1024, 256, kernel_size=(1, 1), stride=(1, 1), bias=False)\n",
      "      (bn1): BatchNorm2d(256, eps=1e-05, momentum=0.1, affine=True, track_running_stats=True)\n",
      "      (conv2): Conv2d(256, 256, kernel_size=(3, 3), stride=(1, 1), padding=(1, 1), bias=False)\n",
      "      (bn2): BatchNorm2d(256, eps=1e-05, momentum=0.1, affine=True, track_running_stats=True)\n",
      "      (conv3): Conv2d(256, 1024, kernel_size=(1, 1), stride=(1, 1), bias=False)\n",
      "      (bn3): BatchNorm2d(1024, eps=1e-05, momentum=0.1, affine=True, track_running_stats=True)\n",
      "      (relu): ReLU(inplace=True)\n",
      "    )\n",
      "    (4): Bottleneck(\n",
      "      (conv1): Conv2d(1024, 256, kernel_size=(1, 1), stride=(1, 1), bias=False)\n",
      "      (bn1): BatchNorm2d(256, eps=1e-05, momentum=0.1, affine=True, track_running_stats=True)\n",
      "      (conv2): Conv2d(256, 256, kernel_size=(3, 3), stride=(1, 1), padding=(1, 1), bias=False)\n",
      "      (bn2): BatchNorm2d(256, eps=1e-05, momentum=0.1, affine=True, track_running_stats=True)\n",
      "      (conv3): Conv2d(256, 1024, kernel_size=(1, 1), stride=(1, 1), bias=False)\n",
      "      (bn3): BatchNorm2d(1024, eps=1e-05, momentum=0.1, affine=True, track_running_stats=True)\n",
      "      (relu): ReLU(inplace=True)\n",
      "    )\n",
      "    (5): Bottleneck(\n",
      "      (conv1): Conv2d(1024, 256, kernel_size=(1, 1), stride=(1, 1), bias=False)\n",
      "      (bn1): BatchNorm2d(256, eps=1e-05, momentum=0.1, affine=True, track_running_stats=True)\n",
      "      (conv2): Conv2d(256, 256, kernel_size=(3, 3), stride=(1, 1), padding=(1, 1), bias=False)\n",
      "      (bn2): BatchNorm2d(256, eps=1e-05, momentum=0.1, affine=True, track_running_stats=True)\n",
      "      (conv3): Conv2d(256, 1024, kernel_size=(1, 1), stride=(1, 1), bias=False)\n",
      "      (bn3): BatchNorm2d(1024, eps=1e-05, momentum=0.1, affine=True, track_running_stats=True)\n",
      "      (relu): ReLU(inplace=True)\n",
      "    )\n",
      "  )\n",
      "  (layer4): Sequential(\n",
      "    (0): Bottleneck(\n",
      "      (conv1): Conv2d(1024, 512, kernel_size=(1, 1), stride=(1, 1), bias=False)\n",
      "      (bn1): BatchNorm2d(512, eps=1e-05, momentum=0.1, affine=True, track_running_stats=True)\n",
      "      (conv2): Conv2d(512, 512, kernel_size=(3, 3), stride=(2, 2), padding=(1, 1), bias=False)\n",
      "      (bn2): BatchNorm2d(512, eps=1e-05, momentum=0.1, affine=True, track_running_stats=True)\n",
      "      (conv3): Conv2d(512, 2048, kernel_size=(1, 1), stride=(1, 1), bias=False)\n",
      "      (bn3): BatchNorm2d(2048, eps=1e-05, momentum=0.1, affine=True, track_running_stats=True)\n",
      "      (relu): ReLU(inplace=True)\n",
      "      (downsample): Sequential(\n",
      "        (0): Conv2d(1024, 2048, kernel_size=(1, 1), stride=(2, 2), bias=False)\n",
      "        (1): BatchNorm2d(2048, eps=1e-05, momentum=0.1, affine=True, track_running_stats=True)\n",
      "      )\n",
      "    )\n",
      "    (1): Bottleneck(\n",
      "      (conv1): Conv2d(2048, 512, kernel_size=(1, 1), stride=(1, 1), bias=False)\n",
      "      (bn1): BatchNorm2d(512, eps=1e-05, momentum=0.1, affine=True, track_running_stats=True)\n",
      "      (conv2): Conv2d(512, 512, kernel_size=(3, 3), stride=(1, 1), padding=(1, 1), bias=False)\n",
      "      (bn2): BatchNorm2d(512, eps=1e-05, momentum=0.1, affine=True, track_running_stats=True)\n",
      "      (conv3): Conv2d(512, 2048, kernel_size=(1, 1), stride=(1, 1), bias=False)\n",
      "      (bn3): BatchNorm2d(2048, eps=1e-05, momentum=0.1, affine=True, track_running_stats=True)\n",
      "      (relu): ReLU(inplace=True)\n",
      "    )\n",
      "    (2): Bottleneck(\n",
      "      (conv1): Conv2d(2048, 512, kernel_size=(1, 1), stride=(1, 1), bias=False)\n",
      "      (bn1): BatchNorm2d(512, eps=1e-05, momentum=0.1, affine=True, track_running_stats=True)\n",
      "      (conv2): Conv2d(512, 512, kernel_size=(3, 3), stride=(1, 1), padding=(1, 1), bias=False)\n",
      "      (bn2): BatchNorm2d(512, eps=1e-05, momentum=0.1, affine=True, track_running_stats=True)\n",
      "      (conv3): Conv2d(512, 2048, kernel_size=(1, 1), stride=(1, 1), bias=False)\n",
      "      (bn3): BatchNorm2d(2048, eps=1e-05, momentum=0.1, affine=True, track_running_stats=True)\n",
      "      (relu): ReLU(inplace=True)\n",
      "    )\n",
      "  )\n",
      "  (avgpool): AdaptiveAvgPool2d(output_size=(1, 1))\n",
      "  (fc): Sequential(\n",
      "    (0): Linear(in_features=2048, out_features=10, bias=True)\n",
      "  )\n",
      ")\n"
     ]
    }
   ],
   "source": [
    "print(hi)"
   ]
  },
  {
   "cell_type": "code",
   "execution_count": 38,
   "metadata": {},
   "outputs": [
    {
     "name": "stderr",
     "output_type": "stream",
     "text": [
      "71it [00:03, 22.15it/s]\n"
     ]
    },
    {
     "name": "stdout",
     "output_type": "stream",
     "text": [
      "Epoch:  1 Accuracy:  98.4 %    loss :  0.10402671247720718\n",
      "airplane: 863/1000\n",
      "automobile: 887/1000\n",
      "bird: 765/1000\n",
      "cat: 636/1000\n",
      "deer: 840/1000\n",
      "dog: 752/1000\n",
      "frog: 877/1000\n",
      "horse: 826/1000\n",
      "ship: 898/1000\n",
      "truck: 863/1000\n",
      "acc :  0.9118888888888889\n"
     ]
    },
    {
     "name": "stderr",
     "output_type": "stream",
     "text": [
      "71it [00:02, 27.91it/s]\n"
     ]
    },
    {
     "name": "stdout",
     "output_type": "stream",
     "text": [
      "Epoch:  2 Accuracy:  98.4 %    loss :  0.11082354933023453\n",
      "airplane: 864/1000\n",
      "automobile: 889/1000\n",
      "bird: 765/1000\n",
      "cat: 639/1000\n",
      "deer: 839/1000\n",
      "dog: 752/1000\n",
      "frog: 877/1000\n",
      "horse: 827/1000\n",
      "ship: 898/1000\n",
      "truck: 862/1000\n",
      "acc :  0.9124444444444444\n"
     ]
    },
    {
     "name": "stderr",
     "output_type": "stream",
     "text": [
      "71it [00:02, 29.94it/s]\n"
     ]
    },
    {
     "name": "stdout",
     "output_type": "stream",
     "text": [
      "Epoch:  3 Accuracy:  97.8 %    loss :  0.11789198964834213\n",
      "airplane: 864/1000\n",
      "automobile: 891/1000\n",
      "bird: 766/1000\n",
      "cat: 641/1000\n",
      "deer: 840/1000\n",
      "dog: 752/1000\n",
      "frog: 878/1000\n",
      "horse: 826/1000\n",
      "ship: 899/1000\n",
      "truck: 861/1000\n",
      "acc :  0.9131111111111111\n"
     ]
    },
    {
     "name": "stderr",
     "output_type": "stream",
     "text": [
      "71it [00:02, 28.75it/s]\n"
     ]
    },
    {
     "name": "stdout",
     "output_type": "stream",
     "text": [
      "Epoch:  4 Accuracy:  97.6 %    loss :  0.12509696185588837\n",
      "airplane: 865/1000\n",
      "automobile: 893/1000\n",
      "bird: 768/1000\n",
      "cat: 642/1000\n",
      "deer: 838/1000\n",
      "dog: 753/1000\n",
      "frog: 878/1000\n",
      "horse: 826/1000\n",
      "ship: 898/1000\n",
      "truck: 858/1000\n",
      "acc :  0.9132222222222223\n"
     ]
    },
    {
     "name": "stderr",
     "output_type": "stream",
     "text": [
      "71it [00:02, 30.17it/s]\n"
     ]
    },
    {
     "name": "stdout",
     "output_type": "stream",
     "text": [
      "Epoch:  5 Accuracy:  97.6 %    loss :  0.13256016373634338\n",
      "airplane: 865/1000\n",
      "automobile: 893/1000\n",
      "bird: 769/1000\n",
      "cat: 642/1000\n",
      "deer: 837/1000\n",
      "dog: 753/1000\n",
      "frog: 879/1000\n",
      "horse: 826/1000\n",
      "ship: 898/1000\n",
      "truck: 854/1000\n",
      "acc :  0.9128888888888889\n"
     ]
    },
    {
     "name": "stderr",
     "output_type": "stream",
     "text": [
      "71it [00:02, 28.88it/s]\n"
     ]
    },
    {
     "name": "stdout",
     "output_type": "stream",
     "text": [
      "Epoch:  6 Accuracy:  97.6 %    loss :  0.1403902918100357\n",
      "airplane: 865/1000\n",
      "automobile: 896/1000\n",
      "bird: 769/1000\n",
      "cat: 645/1000\n",
      "deer: 837/1000\n",
      "dog: 754/1000\n",
      "frog: 877/1000\n",
      "horse: 826/1000\n",
      "ship: 899/1000\n",
      "truck: 851/1000\n",
      "acc :  0.9132222222222223\n"
     ]
    },
    {
     "name": "stderr",
     "output_type": "stream",
     "text": [
      "71it [00:03, 20.04it/s]\n"
     ]
    },
    {
     "name": "stdout",
     "output_type": "stream",
     "text": [
      "Epoch:  7 Accuracy:  97.6 %    loss :  0.14866620302200317\n",
      "airplane: 865/1000\n",
      "automobile: 898/1000\n",
      "bird: 769/1000\n",
      "cat: 648/1000\n",
      "deer: 835/1000\n",
      "dog: 754/1000\n",
      "frog: 877/1000\n",
      "horse: 824/1000\n",
      "ship: 899/1000\n",
      "truck: 847/1000\n",
      "acc :  0.9128888888888889\n"
     ]
    },
    {
     "name": "stderr",
     "output_type": "stream",
     "text": [
      "71it [00:02, 28.00it/s]\n"
     ]
    },
    {
     "name": "stdout",
     "output_type": "stream",
     "text": [
      "Epoch:  8 Accuracy:  97.2 %    loss :  0.15675655007362366\n",
      "airplane: 865/1000\n",
      "automobile: 899/1000\n",
      "bird: 768/1000\n",
      "cat: 648/1000\n",
      "deer: 834/1000\n",
      "dog: 754/1000\n",
      "frog: 876/1000\n",
      "horse: 824/1000\n",
      "ship: 900/1000\n",
      "truck: 845/1000\n",
      "acc :  0.9125555555555556\n"
     ]
    },
    {
     "name": "stderr",
     "output_type": "stream",
     "text": [
      "71it [00:02, 29.64it/s]\n"
     ]
    },
    {
     "name": "stdout",
     "output_type": "stream",
     "text": [
      "Epoch:  9 Accuracy:  97.0 %    loss :  0.16540440917015076\n",
      "airplane: 867/1000\n",
      "automobile: 900/1000\n",
      "bird: 768/1000\n",
      "cat: 648/1000\n",
      "deer: 834/1000\n",
      "dog: 754/1000\n",
      "frog: 877/1000\n",
      "horse: 823/1000\n",
      "ship: 901/1000\n",
      "truck: 841/1000\n",
      "acc :  0.9125555555555556\n"
     ]
    },
    {
     "name": "stderr",
     "output_type": "stream",
     "text": [
      "71it [00:02, 30.06it/s]\n"
     ]
    },
    {
     "name": "stdout",
     "output_type": "stream",
     "text": [
      "Epoch:  10 Accuracy:  96.8 %    loss :  0.17465516924858093\n",
      "airplane: 867/1000\n",
      "automobile: 899/1000\n",
      "bird: 768/1000\n",
      "cat: 650/1000\n",
      "deer: 833/1000\n",
      "dog: 754/1000\n",
      "frog: 876/1000\n",
      "horse: 823/1000\n",
      "ship: 899/1000\n",
      "truck: 836/1000\n",
      "acc :  0.9116666666666666\n"
     ]
    },
    {
     "name": "stderr",
     "output_type": "stream",
     "text": [
      "71it [00:02, 30.01it/s]\n"
     ]
    },
    {
     "name": "stdout",
     "output_type": "stream",
     "text": [
      "Epoch:  11 Accuracy:  96.6 %    loss :  0.18427500128746033\n",
      "airplane: 868/1000\n",
      "automobile: 899/1000\n",
      "bird: 769/1000\n",
      "cat: 651/1000\n",
      "deer: 833/1000\n",
      "dog: 753/1000\n",
      "frog: 875/1000\n",
      "horse: 821/1000\n",
      "ship: 899/1000\n",
      "truck: 834/1000\n",
      "acc :  0.9113333333333333\n"
     ]
    },
    {
     "name": "stderr",
     "output_type": "stream",
     "text": [
      "71it [00:02, 30.19it/s]\n"
     ]
    },
    {
     "name": "stdout",
     "output_type": "stream",
     "text": [
      "Epoch:  12 Accuracy:  96.6 %    loss :  0.1940503716468811\n",
      "airplane: 868/1000\n",
      "automobile: 899/1000\n",
      "bird: 770/1000\n",
      "cat: 654/1000\n",
      "deer: 829/1000\n",
      "dog: 752/1000\n",
      "frog: 875/1000\n",
      "horse: 821/1000\n",
      "ship: 898/1000\n",
      "truck: 827/1000\n",
      "acc :  0.9103333333333333\n"
     ]
    },
    {
     "name": "stderr",
     "output_type": "stream",
     "text": [
      "71it [00:02, 30.29it/s]\n"
     ]
    },
    {
     "name": "stdout",
     "output_type": "stream",
     "text": [
      "Epoch:  13 Accuracy:  96.39999999999999 %    loss :  0.20432600378990173\n",
      "airplane: 869/1000\n",
      "automobile: 900/1000\n",
      "bird: 771/1000\n",
      "cat: 658/1000\n",
      "deer: 829/1000\n",
      "dog: 752/1000\n",
      "frog: 874/1000\n",
      "horse: 819/1000\n",
      "ship: 898/1000\n",
      "truck: 820/1000\n",
      "acc :  0.91\n"
     ]
    },
    {
     "name": "stderr",
     "output_type": "stream",
     "text": [
      "71it [00:03, 21.86it/s]\n"
     ]
    },
    {
     "name": "stdout",
     "output_type": "stream",
     "text": [
      "Epoch:  14 Accuracy:  96.2 %    loss :  0.21536126732826233\n",
      "airplane: 870/1000\n",
      "automobile: 900/1000\n",
      "bird: 773/1000\n",
      "cat: 658/1000\n",
      "deer: 827/1000\n",
      "dog: 753/1000\n",
      "frog: 873/1000\n",
      "horse: 818/1000\n",
      "ship: 898/1000\n",
      "truck: 811/1000\n",
      "acc :  0.909\n"
     ]
    },
    {
     "name": "stderr",
     "output_type": "stream",
     "text": [
      "71it [00:03, 23.30it/s]\n"
     ]
    },
    {
     "name": "stdout",
     "output_type": "stream",
     "text": [
      "Epoch:  15 Accuracy:  95.6 %    loss :  0.22727803885936737\n",
      "airplane: 869/1000\n",
      "automobile: 901/1000\n",
      "bird: 773/1000\n",
      "cat: 660/1000\n",
      "deer: 826/1000\n",
      "dog: 754/1000\n",
      "frog: 872/1000\n",
      "horse: 815/1000\n",
      "ship: 897/1000\n",
      "truck: 805/1000\n",
      "acc :  0.908\n"
     ]
    },
    {
     "name": "stderr",
     "output_type": "stream",
     "text": [
      "71it [00:02, 24.93it/s]\n"
     ]
    },
    {
     "name": "stdout",
     "output_type": "stream",
     "text": [
      "Epoch:  16 Accuracy:  95.6 %    loss :  0.24007797241210938\n",
      "airplane: 869/1000\n",
      "automobile: 902/1000\n",
      "bird: 777/1000\n",
      "cat: 661/1000\n",
      "deer: 824/1000\n",
      "dog: 753/1000\n",
      "frog: 873/1000\n",
      "horse: 814/1000\n",
      "ship: 896/1000\n",
      "truck: 797/1000\n",
      "acc :  0.9073333333333333\n"
     ]
    },
    {
     "name": "stderr",
     "output_type": "stream",
     "text": [
      "71it [00:02, 30.01it/s]\n"
     ]
    },
    {
     "name": "stdout",
     "output_type": "stream",
     "text": [
      "Epoch:  17 Accuracy:  95.0 %    loss :  0.25379467010498047\n",
      "airplane: 869/1000\n",
      "automobile: 902/1000\n",
      "bird: 779/1000\n",
      "cat: 662/1000\n",
      "deer: 822/1000\n",
      "dog: 753/1000\n",
      "frog: 873/1000\n",
      "horse: 808/1000\n",
      "ship: 895/1000\n",
      "truck: 791/1000\n",
      "acc :  0.906\n"
     ]
    },
    {
     "name": "stderr",
     "output_type": "stream",
     "text": [
      "71it [00:03, 20.84it/s]\n"
     ]
    },
    {
     "name": "stdout",
     "output_type": "stream",
     "text": [
      "Epoch:  18 Accuracy:  94.8 %    loss :  0.2690049409866333\n",
      "airplane: 870/1000\n",
      "automobile: 904/1000\n",
      "bird: 781/1000\n",
      "cat: 665/1000\n",
      "deer: 817/1000\n",
      "dog: 754/1000\n",
      "frog: 876/1000\n",
      "horse: 806/1000\n",
      "ship: 893/1000\n",
      "truck: 783/1000\n",
      "acc :  0.9054444444444445\n"
     ]
    },
    {
     "name": "stderr",
     "output_type": "stream",
     "text": [
      "71it [00:03, 22.19it/s]\n"
     ]
    },
    {
     "name": "stdout",
     "output_type": "stream",
     "text": [
      "Epoch:  19 Accuracy:  94.39999999999999 %    loss :  0.28515613079071045\n",
      "airplane: 871/1000\n",
      "automobile: 904/1000\n",
      "bird: 781/1000\n",
      "cat: 664/1000\n",
      "deer: 816/1000\n",
      "dog: 756/1000\n",
      "frog: 875/1000\n",
      "horse: 806/1000\n",
      "ship: 893/1000\n",
      "truck: 779/1000\n",
      "acc :  0.905\n"
     ]
    },
    {
     "name": "stderr",
     "output_type": "stream",
     "text": [
      "71it [00:02, 28.53it/s]\n"
     ]
    },
    {
     "name": "stdout",
     "output_type": "stream",
     "text": [
      "Epoch:  20 Accuracy:  94.0 %    loss :  0.3029724359512329\n",
      "airplane: 870/1000\n",
      "automobile: 906/1000\n",
      "bird: 782/1000\n",
      "cat: 665/1000\n",
      "deer: 816/1000\n",
      "dog: 755/1000\n",
      "frog: 874/1000\n",
      "horse: 805/1000\n",
      "ship: 892/1000\n",
      "truck: 768/1000\n",
      "acc :  0.9036666666666666\n"
     ]
    },
    {
     "name": "stderr",
     "output_type": "stream",
     "text": [
      "71it [00:03, 22.87it/s]\n"
     ]
    },
    {
     "name": "stdout",
     "output_type": "stream",
     "text": [
      "Epoch:  21 Accuracy:  93.8 %    loss :  0.32340776920318604\n",
      "airplane: 870/1000\n",
      "automobile: 905/1000\n",
      "bird: 784/1000\n",
      "cat: 667/1000\n",
      "deer: 813/1000\n",
      "dog: 757/1000\n",
      "frog: 874/1000\n",
      "horse: 800/1000\n",
      "ship: 887/1000\n",
      "truck: 764/1000\n",
      "acc :  0.9023333333333333\n"
     ]
    },
    {
     "name": "stderr",
     "output_type": "stream",
     "text": [
      "71it [00:02, 29.81it/s]\n"
     ]
    },
    {
     "name": "stdout",
     "output_type": "stream",
     "text": [
      "Epoch:  22 Accuracy:  93.0 %    loss :  0.34636157751083374\n",
      "airplane: 868/1000\n",
      "automobile: 907/1000\n",
      "bird: 785/1000\n",
      "cat: 668/1000\n",
      "deer: 813/1000\n",
      "dog: 754/1000\n",
      "frog: 874/1000\n",
      "horse: 797/1000\n",
      "ship: 881/1000\n",
      "truck: 756/1000\n",
      "acc :  0.9003333333333333\n"
     ]
    },
    {
     "name": "stderr",
     "output_type": "stream",
     "text": [
      "71it [00:02, 25.85it/s]\n"
     ]
    },
    {
     "name": "stdout",
     "output_type": "stream",
     "text": [
      "Epoch:  23 Accuracy:  93.0 %    loss :  0.3728177845478058\n",
      "airplane: 866/1000\n",
      "automobile: 906/1000\n",
      "bird: 785/1000\n",
      "cat: 670/1000\n",
      "deer: 810/1000\n",
      "dog: 756/1000\n",
      "frog: 873/1000\n",
      "horse: 795/1000\n",
      "ship: 878/1000\n",
      "truck: 746/1000\n",
      "acc :  0.8983333333333333\n"
     ]
    },
    {
     "name": "stderr",
     "output_type": "stream",
     "text": [
      "71it [00:03, 22.00it/s]\n"
     ]
    },
    {
     "name": "stdout",
     "output_type": "stream",
     "text": [
      "Epoch:  24 Accuracy:  91.4 %    loss :  0.4029357433319092\n",
      "airplane: 866/1000\n",
      "automobile: 906/1000\n",
      "bird: 786/1000\n",
      "cat: 675/1000\n",
      "deer: 807/1000\n",
      "dog: 754/1000\n",
      "frog: 871/1000\n",
      "horse: 794/1000\n",
      "ship: 876/1000\n",
      "truck: 730/1000\n",
      "acc :  0.8961111111111111\n"
     ]
    },
    {
     "name": "stderr",
     "output_type": "stream",
     "text": [
      "71it [00:02, 29.86it/s]\n"
     ]
    },
    {
     "name": "stdout",
     "output_type": "stream",
     "text": [
      "Epoch:  25 Accuracy:  89.8 %    loss :  0.43846672773361206\n",
      "airplane: 864/1000\n",
      "automobile: 905/1000\n",
      "bird: 786/1000\n",
      "cat: 675/1000\n",
      "deer: 806/1000\n",
      "dog: 755/1000\n",
      "frog: 870/1000\n",
      "horse: 793/1000\n",
      "ship: 874/1000\n",
      "truck: 724/1000\n",
      "acc :  0.8946666666666667\n"
     ]
    },
    {
     "name": "stderr",
     "output_type": "stream",
     "text": [
      "71it [00:02, 28.09it/s]\n"
     ]
    },
    {
     "name": "stdout",
     "output_type": "stream",
     "text": [
      "Epoch:  26 Accuracy:  87.8 %    loss :  0.47969895601272583\n",
      "airplane: 863/1000\n",
      "automobile: 904/1000\n",
      "bird: 785/1000\n",
      "cat: 675/1000\n",
      "deer: 804/1000\n",
      "dog: 753/1000\n",
      "frog: 869/1000\n",
      "horse: 789/1000\n",
      "ship: 873/1000\n",
      "truck: 707/1000\n",
      "acc :  0.8913333333333333\n"
     ]
    },
    {
     "name": "stderr",
     "output_type": "stream",
     "text": [
      "71it [00:02, 29.82it/s]\n"
     ]
    },
    {
     "name": "stdout",
     "output_type": "stream",
     "text": [
      "Epoch:  27 Accuracy:  86.6 %    loss :  0.5262405872344971\n",
      "airplane: 864/1000\n",
      "automobile: 906/1000\n",
      "bird: 785/1000\n",
      "cat: 679/1000\n",
      "deer: 800/1000\n",
      "dog: 749/1000\n",
      "frog: 869/1000\n",
      "horse: 785/1000\n",
      "ship: 870/1000\n",
      "truck: 699/1000\n",
      "acc :  0.8895555555555555\n"
     ]
    },
    {
     "name": "stderr",
     "output_type": "stream",
     "text": [
      "71it [00:02, 27.87it/s]\n"
     ]
    },
    {
     "name": "stdout",
     "output_type": "stream",
     "text": [
      "Epoch:  28 Accuracy:  85.8 %    loss :  0.5814722776412964\n",
      "airplane: 865/1000\n",
      "automobile: 906/1000\n",
      "bird: 785/1000\n",
      "cat: 679/1000\n",
      "deer: 793/1000\n",
      "dog: 749/1000\n",
      "frog: 870/1000\n",
      "horse: 782/1000\n",
      "ship: 866/1000\n",
      "truck: 677/1000\n",
      "acc :  0.8857777777777778\n"
     ]
    },
    {
     "name": "stderr",
     "output_type": "stream",
     "text": [
      "71it [00:03, 22.37it/s]\n"
     ]
    },
    {
     "name": "stdout",
     "output_type": "stream",
     "text": [
      "Epoch:  29 Accuracy:  83.2 %    loss :  0.646783173084259\n",
      "airplane: 864/1000\n",
      "automobile: 907/1000\n",
      "bird: 787/1000\n",
      "cat: 680/1000\n",
      "deer: 789/1000\n",
      "dog: 751/1000\n",
      "frog: 869/1000\n",
      "horse: 777/1000\n",
      "ship: 860/1000\n",
      "truck: 661/1000\n",
      "acc :  0.8827777777777778\n"
     ]
    },
    {
     "name": "stderr",
     "output_type": "stream",
     "text": [
      "71it [00:02, 24.01it/s]\n"
     ]
    },
    {
     "name": "stdout",
     "output_type": "stream",
     "text": [
      "Epoch:  30 Accuracy:  82.0 %    loss :  0.722047746181488\n",
      "airplane: 862/1000\n",
      "automobile: 905/1000\n",
      "bird: 784/1000\n",
      "cat: 681/1000\n",
      "deer: 785/1000\n",
      "dog: 751/1000\n",
      "frog: 869/1000\n",
      "horse: 773/1000\n",
      "ship: 857/1000\n",
      "truck: 635/1000\n",
      "acc :  0.878\n"
     ]
    },
    {
     "name": "stderr",
     "output_type": "stream",
     "text": [
      "71it [00:02, 29.47it/s]\n"
     ]
    },
    {
     "name": "stdout",
     "output_type": "stream",
     "text": [
      "Epoch:  31 Accuracy:  80.0 %    loss :  0.8110408782958984\n",
      "airplane: 861/1000\n",
      "automobile: 904/1000\n",
      "bird: 783/1000\n",
      "cat: 685/1000\n",
      "deer: 781/1000\n",
      "dog: 749/1000\n",
      "frog: 869/1000\n",
      "horse: 768/1000\n",
      "ship: 846/1000\n",
      "truck: 615/1000\n",
      "acc :  0.8734444444444445\n"
     ]
    },
    {
     "name": "stderr",
     "output_type": "stream",
     "text": [
      "71it [00:03, 23.08it/s]\n"
     ]
    },
    {
     "name": "stdout",
     "output_type": "stream",
     "text": [
      "Epoch:  32 Accuracy:  79.0 %    loss :  0.9129011034965515\n",
      "airplane: 859/1000\n",
      "automobile: 902/1000\n",
      "bird: 782/1000\n",
      "cat: 690/1000\n",
      "deer: 778/1000\n",
      "dog: 747/1000\n",
      "frog: 870/1000\n",
      "horse: 767/1000\n",
      "ship: 837/1000\n",
      "truck: 597/1000\n",
      "acc :  0.8698888888888889\n"
     ]
    },
    {
     "name": "stderr",
     "output_type": "stream",
     "text": [
      "71it [00:03, 21.66it/s]\n"
     ]
    },
    {
     "name": "stdout",
     "output_type": "stream",
     "text": [
      "Epoch:  33 Accuracy:  76.0 %    loss :  1.0329005718231201\n",
      "airplane: 857/1000\n",
      "automobile: 900/1000\n",
      "bird: 781/1000\n",
      "cat: 691/1000\n",
      "deer: 774/1000\n",
      "dog: 745/1000\n",
      "frog: 869/1000\n",
      "horse: 763/1000\n",
      "ship: 824/1000\n",
      "truck: 578/1000\n",
      "acc :  0.8646666666666667\n"
     ]
    },
    {
     "name": "stderr",
     "output_type": "stream",
     "text": [
      "71it [00:03, 22.74it/s]\n"
     ]
    },
    {
     "name": "stdout",
     "output_type": "stream",
     "text": [
      "Epoch:  34 Accuracy:  73.0 %    loss :  1.1736152172088623\n",
      "airplane: 852/1000\n",
      "automobile: 896/1000\n",
      "bird: 779/1000\n",
      "cat: 696/1000\n",
      "deer: 771/1000\n",
      "dog: 744/1000\n",
      "frog: 868/1000\n",
      "horse: 753/1000\n",
      "ship: 822/1000\n",
      "truck: 561/1000\n",
      "acc :  0.8602222222222222\n"
     ]
    },
    {
     "name": "stderr",
     "output_type": "stream",
     "text": [
      "71it [00:02, 28.46it/s]\n"
     ]
    },
    {
     "name": "stdout",
     "output_type": "stream",
     "text": [
      "Epoch:  35 Accuracy:  69.0 %    loss :  1.3309543132781982\n",
      "airplane: 850/1000\n",
      "automobile: 891/1000\n",
      "bird: 778/1000\n",
      "cat: 703/1000\n",
      "deer: 763/1000\n",
      "dog: 743/1000\n",
      "frog: 867/1000\n",
      "horse: 750/1000\n",
      "ship: 811/1000\n",
      "truck: 535/1000\n",
      "acc :  0.8545555555555555\n"
     ]
    },
    {
     "name": "stderr",
     "output_type": "stream",
     "text": [
      "71it [00:03, 22.09it/s]\n"
     ]
    },
    {
     "name": "stdout",
     "output_type": "stream",
     "text": [
      "Epoch:  36 Accuracy:  64.8 %    loss :  1.499315619468689\n",
      "airplane: 849/1000\n",
      "automobile: 888/1000\n",
      "bird: 779/1000\n",
      "cat: 706/1000\n",
      "deer: 759/1000\n",
      "dog: 742/1000\n",
      "frog: 867/1000\n",
      "horse: 747/1000\n",
      "ship: 804/1000\n",
      "truck: 503/1000\n",
      "acc :  0.8493333333333334\n"
     ]
    },
    {
     "name": "stderr",
     "output_type": "stream",
     "text": [
      "71it [00:02, 29.78it/s]\n"
     ]
    },
    {
     "name": "stdout",
     "output_type": "stream",
     "text": [
      "Epoch:  37 Accuracy:  61.0 %    loss :  1.6740655899047852\n",
      "airplane: 846/1000\n",
      "automobile: 886/1000\n",
      "bird: 779/1000\n",
      "cat: 709/1000\n",
      "deer: 754/1000\n",
      "dog: 741/1000\n",
      "frog: 862/1000\n",
      "horse: 742/1000\n",
      "ship: 796/1000\n",
      "truck: 483/1000\n",
      "acc :  0.8442222222222222\n"
     ]
    },
    {
     "name": "stderr",
     "output_type": "stream",
     "text": [
      "71it [00:02, 29.81it/s]\n"
     ]
    },
    {
     "name": "stdout",
     "output_type": "stream",
     "text": [
      "Epoch:  38 Accuracy:  58.8 %    loss :  1.8547983169555664\n",
      "airplane: 844/1000\n",
      "automobile: 884/1000\n",
      "bird: 782/1000\n",
      "cat: 715/1000\n",
      "deer: 745/1000\n",
      "dog: 736/1000\n",
      "frog: 858/1000\n",
      "horse: 739/1000\n",
      "ship: 788/1000\n",
      "truck: 462/1000\n",
      "acc :  0.8392222222222222\n"
     ]
    },
    {
     "name": "stderr",
     "output_type": "stream",
     "text": [
      "71it [00:02, 25.81it/s]\n"
     ]
    },
    {
     "name": "stdout",
     "output_type": "stream",
     "text": [
      "Epoch:  39 Accuracy:  55.2 %    loss :  2.0459370613098145\n",
      "airplane: 841/1000\n",
      "automobile: 880/1000\n",
      "bird: 780/1000\n",
      "cat: 720/1000\n",
      "deer: 743/1000\n",
      "dog: 733/1000\n",
      "frog: 855/1000\n",
      "horse: 733/1000\n",
      "ship: 777/1000\n",
      "truck: 447/1000\n",
      "acc :  0.8343333333333334\n"
     ]
    },
    {
     "name": "stderr",
     "output_type": "stream",
     "text": [
      "71it [00:03, 22.13it/s]\n"
     ]
    },
    {
     "name": "stdout",
     "output_type": "stream",
     "text": [
      "Epoch:  40 Accuracy:  53.400000000000006 %    loss :  2.2507643699645996\n",
      "airplane: 836/1000\n",
      "automobile: 877/1000\n",
      "bird: 777/1000\n",
      "cat: 724/1000\n",
      "deer: 738/1000\n",
      "dog: 732/1000\n",
      "frog: 848/1000\n",
      "horse: 727/1000\n",
      "ship: 771/1000\n",
      "truck: 425/1000\n",
      "acc :  0.8283333333333334\n"
     ]
    },
    {
     "name": "stderr",
     "output_type": "stream",
     "text": [
      "71it [00:03, 22.33it/s]\n"
     ]
    },
    {
     "name": "stdout",
     "output_type": "stream",
     "text": [
      "Epoch:  41 Accuracy:  50.4 %    loss :  2.4709630012512207\n",
      "airplane: 833/1000\n",
      "automobile: 873/1000\n",
      "bird: 774/1000\n",
      "cat: 726/1000\n",
      "deer: 735/1000\n",
      "dog: 731/1000\n",
      "frog: 842/1000\n",
      "horse: 722/1000\n",
      "ship: 757/1000\n",
      "truck: 406/1000\n",
      "acc :  0.8221111111111111\n"
     ]
    },
    {
     "name": "stderr",
     "output_type": "stream",
     "text": [
      "71it [00:02, 24.09it/s]\n"
     ]
    },
    {
     "name": "stdout",
     "output_type": "stream",
     "text": [
      "Epoch:  42 Accuracy:  46.6 %    loss :  2.7091987133026123\n",
      "airplane: 831/1000\n",
      "automobile: 870/1000\n",
      "bird: 773/1000\n",
      "cat: 726/1000\n",
      "deer: 731/1000\n",
      "dog: 729/1000\n",
      "frog: 839/1000\n",
      "horse: 715/1000\n",
      "ship: 749/1000\n",
      "truck: 392/1000\n",
      "acc :  0.8172222222222222\n"
     ]
    },
    {
     "name": "stderr",
     "output_type": "stream",
     "text": [
      "71it [00:02, 29.76it/s]\n"
     ]
    },
    {
     "name": "stdout",
     "output_type": "stream",
     "text": [
      "Epoch:  43 Accuracy:  43.4 %    loss :  2.961945056915283\n",
      "airplane: 828/1000\n",
      "automobile: 867/1000\n",
      "bird: 774/1000\n",
      "cat: 732/1000\n",
      "deer: 724/1000\n",
      "dog: 726/1000\n",
      "frog: 837/1000\n",
      "horse: 712/1000\n",
      "ship: 736/1000\n",
      "truck: 371/1000\n",
      "acc :  0.8118888888888889\n"
     ]
    },
    {
     "name": "stderr",
     "output_type": "stream",
     "text": [
      "71it [00:03, 21.80it/s]\n"
     ]
    },
    {
     "name": "stdout",
     "output_type": "stream",
     "text": [
      "Epoch:  44 Accuracy:  39.800000000000004 %    loss :  3.2298386096954346\n",
      "airplane: 827/1000\n",
      "automobile: 862/1000\n",
      "bird: 771/1000\n",
      "cat: 738/1000\n",
      "deer: 715/1000\n",
      "dog: 724/1000\n",
      "frog: 834/1000\n",
      "horse: 708/1000\n",
      "ship: 727/1000\n",
      "truck: 344/1000\n",
      "acc :  0.8055555555555556\n"
     ]
    },
    {
     "name": "stderr",
     "output_type": "stream",
     "text": [
      "71it [00:02, 28.53it/s]\n"
     ]
    },
    {
     "name": "stdout",
     "output_type": "stream",
     "text": [
      "Epoch:  45 Accuracy:  38.0 %    loss :  3.5173962116241455\n",
      "airplane: 822/1000\n",
      "automobile: 859/1000\n",
      "bird: 768/1000\n",
      "cat: 743/1000\n",
      "deer: 705/1000\n",
      "dog: 722/1000\n",
      "frog: 831/1000\n",
      "horse: 701/1000\n",
      "ship: 720/1000\n",
      "truck: 333/1000\n",
      "acc :  0.8004444444444444\n"
     ]
    },
    {
     "name": "stderr",
     "output_type": "stream",
     "text": [
      "71it [00:02, 29.76it/s]\n"
     ]
    },
    {
     "name": "stdout",
     "output_type": "stream",
     "text": [
      "Epoch:  46 Accuracy:  34.599999999999994 %    loss :  3.812068223953247\n",
      "airplane: 818/1000\n",
      "automobile: 855/1000\n",
      "bird: 770/1000\n",
      "cat: 747/1000\n",
      "deer: 702/1000\n",
      "dog: 721/1000\n",
      "frog: 828/1000\n",
      "horse: 695/1000\n",
      "ship: 709/1000\n",
      "truck: 316/1000\n",
      "acc :  0.7956666666666666\n"
     ]
    },
    {
     "name": "stderr",
     "output_type": "stream",
     "text": [
      "71it [00:02, 29.80it/s]\n"
     ]
    },
    {
     "name": "stdout",
     "output_type": "stream",
     "text": [
      "Epoch:  47 Accuracy:  32.2 %    loss :  4.113969802856445\n",
      "airplane: 811/1000\n",
      "automobile: 848/1000\n",
      "bird: 768/1000\n",
      "cat: 750/1000\n",
      "deer: 694/1000\n",
      "dog: 720/1000\n",
      "frog: 819/1000\n",
      "horse: 689/1000\n",
      "ship: 697/1000\n",
      "truck: 301/1000\n",
      "acc :  0.7885555555555556\n"
     ]
    },
    {
     "name": "stderr",
     "output_type": "stream",
     "text": [
      "71it [00:03, 23.15it/s]\n"
     ]
    },
    {
     "name": "stdout",
     "output_type": "stream",
     "text": [
      "Epoch:  48 Accuracy:  31.0 %    loss :  4.425526142120361\n",
      "airplane: 806/1000\n",
      "automobile: 844/1000\n",
      "bird: 766/1000\n",
      "cat: 751/1000\n",
      "deer: 688/1000\n",
      "dog: 720/1000\n",
      "frog: 816/1000\n",
      "horse: 682/1000\n",
      "ship: 692/1000\n",
      "truck: 288/1000\n",
      "acc :  0.7836666666666666\n"
     ]
    },
    {
     "name": "stderr",
     "output_type": "stream",
     "text": [
      "71it [00:02, 26.23it/s]\n"
     ]
    },
    {
     "name": "stdout",
     "output_type": "stream",
     "text": [
      "Epoch:  49 Accuracy:  29.599999999999998 %    loss :  4.747040748596191\n",
      "airplane: 803/1000\n",
      "automobile: 838/1000\n",
      "bird: 764/1000\n",
      "cat: 759/1000\n",
      "deer: 677/1000\n",
      "dog: 719/1000\n",
      "frog: 815/1000\n",
      "horse: 673/1000\n",
      "ship: 676/1000\n",
      "truck: 270/1000\n",
      "acc :  0.7771111111111111\n"
     ]
    },
    {
     "name": "stderr",
     "output_type": "stream",
     "text": [
      "71it [00:02, 28.21it/s]\n"
     ]
    },
    {
     "name": "stdout",
     "output_type": "stream",
     "text": [
      "Epoch:  50 Accuracy:  28.000000000000004 %    loss :  5.0747785568237305\n",
      "airplane: 798/1000\n",
      "automobile: 830/1000\n",
      "bird: 760/1000\n",
      "cat: 763/1000\n",
      "deer: 668/1000\n",
      "dog: 713/1000\n",
      "frog: 811/1000\n",
      "horse: 668/1000\n",
      "ship: 663/1000\n",
      "truck: 248/1000\n",
      "acc :  0.7691111111111111\n"
     ]
    },
    {
     "name": "stderr",
     "output_type": "stream",
     "text": [
      "71it [00:02, 29.74it/s]\n"
     ]
    },
    {
     "name": "stdout",
     "output_type": "stream",
     "text": [
      "Epoch:  51 Accuracy:  25.2 %    loss :  5.405052661895752\n",
      "airplane: 795/1000\n",
      "automobile: 826/1000\n",
      "bird: 760/1000\n",
      "cat: 766/1000\n",
      "deer: 659/1000\n",
      "dog: 712/1000\n",
      "frog: 808/1000\n",
      "horse: 665/1000\n",
      "ship: 651/1000\n",
      "truck: 225/1000\n",
      "acc :  0.763\n"
     ]
    },
    {
     "name": "stderr",
     "output_type": "stream",
     "text": [
      "71it [00:02, 28.23it/s]\n"
     ]
    },
    {
     "name": "stdout",
     "output_type": "stream",
     "text": [
      "Epoch:  52 Accuracy:  22.2 %    loss :  5.7332634925842285\n",
      "airplane: 791/1000\n",
      "automobile: 818/1000\n",
      "bird: 756/1000\n",
      "cat: 770/1000\n",
      "deer: 654/1000\n",
      "dog: 708/1000\n",
      "frog: 806/1000\n",
      "horse: 655/1000\n",
      "ship: 642/1000\n",
      "truck: 214/1000\n",
      "acc :  0.7571111111111111\n"
     ]
    },
    {
     "name": "stderr",
     "output_type": "stream",
     "text": [
      "71it [00:02, 28.17it/s]\n"
     ]
    },
    {
     "name": "stdout",
     "output_type": "stream",
     "text": [
      "Epoch:  53 Accuracy:  21.0 %    loss :  6.06129789352417\n",
      "airplane: 786/1000\n",
      "automobile: 813/1000\n",
      "bird: 752/1000\n",
      "cat: 772/1000\n",
      "deer: 646/1000\n",
      "dog: 709/1000\n",
      "frog: 804/1000\n",
      "horse: 648/1000\n",
      "ship: 628/1000\n",
      "truck: 199/1000\n",
      "acc :  0.7507777777777778\n"
     ]
    },
    {
     "name": "stderr",
     "output_type": "stream",
     "text": [
      "71it [00:03, 21.08it/s]\n"
     ]
    },
    {
     "name": "stdout",
     "output_type": "stream",
     "text": [
      "Epoch:  54 Accuracy:  20.599999999999998 %    loss :  6.381503105163574\n",
      "airplane: 784/1000\n",
      "automobile: 807/1000\n",
      "bird: 750/1000\n",
      "cat: 778/1000\n",
      "deer: 637/1000\n",
      "dog: 707/1000\n",
      "frog: 799/1000\n",
      "horse: 642/1000\n",
      "ship: 620/1000\n",
      "truck: 185/1000\n",
      "acc :  0.7454444444444445\n"
     ]
    },
    {
     "name": "stderr",
     "output_type": "stream",
     "text": [
      "71it [00:02, 25.50it/s]\n"
     ]
    },
    {
     "name": "stdout",
     "output_type": "stream",
     "text": [
      "Epoch:  55 Accuracy:  19.6 %    loss :  6.69094705581665\n",
      "airplane: 782/1000\n",
      "automobile: 804/1000\n",
      "bird: 745/1000\n",
      "cat: 780/1000\n",
      "deer: 629/1000\n",
      "dog: 703/1000\n",
      "frog: 792/1000\n",
      "horse: 637/1000\n",
      "ship: 615/1000\n",
      "truck: 174/1000\n",
      "acc :  0.7401111111111112\n"
     ]
    },
    {
     "name": "stderr",
     "output_type": "stream",
     "text": [
      "71it [00:03, 21.06it/s]\n"
     ]
    },
    {
     "name": "stdout",
     "output_type": "stream",
     "text": [
      "Epoch:  56 Accuracy:  17.599999999999998 %    loss :  6.994765281677246\n",
      "airplane: 775/1000\n",
      "automobile: 797/1000\n",
      "bird: 743/1000\n",
      "cat: 785/1000\n",
      "deer: 623/1000\n",
      "dog: 703/1000\n",
      "frog: 785/1000\n",
      "horse: 634/1000\n",
      "ship: 600/1000\n",
      "truck: 159/1000\n",
      "acc :  0.7337777777777778\n"
     ]
    },
    {
     "name": "stderr",
     "output_type": "stream",
     "text": [
      "71it [00:03, 20.94it/s]\n"
     ]
    },
    {
     "name": "stdout",
     "output_type": "stream",
     "text": [
      "Epoch:  57 Accuracy:  15.4 %    loss :  7.2895827293396\n",
      "airplane: 769/1000\n",
      "automobile: 790/1000\n",
      "bird: 739/1000\n",
      "cat: 786/1000\n",
      "deer: 622/1000\n",
      "dog: 700/1000\n",
      "frog: 778/1000\n",
      "horse: 626/1000\n",
      "ship: 586/1000\n",
      "truck: 151/1000\n",
      "acc :  0.7274444444444444\n"
     ]
    },
    {
     "name": "stderr",
     "output_type": "stream",
     "text": [
      "71it [00:02, 25.30it/s]\n"
     ]
    },
    {
     "name": "stdout",
     "output_type": "stream",
     "text": [
      "Epoch:  58 Accuracy:  14.2 %    loss :  7.5803375244140625\n",
      "airplane: 765/1000\n",
      "automobile: 785/1000\n",
      "bird: 736/1000\n",
      "cat: 791/1000\n",
      "deer: 614/1000\n",
      "dog: 696/1000\n",
      "frog: 771/1000\n",
      "horse: 623/1000\n",
      "ship: 572/1000\n",
      "truck: 146/1000\n",
      "acc :  0.7221111111111111\n"
     ]
    },
    {
     "name": "stderr",
     "output_type": "stream",
     "text": [
      "71it [00:02, 29.73it/s]\n"
     ]
    },
    {
     "name": "stdout",
     "output_type": "stream",
     "text": [
      "Epoch:  59 Accuracy:  12.6 %    loss :  7.861063480377197\n",
      "airplane: 762/1000\n",
      "automobile: 774/1000\n",
      "bird: 735/1000\n",
      "cat: 798/1000\n",
      "deer: 605/1000\n",
      "dog: 691/1000\n",
      "frog: 767/1000\n",
      "horse: 620/1000\n",
      "ship: 557/1000\n",
      "truck: 133/1000\n",
      "acc :  0.7157777777777777\n"
     ]
    },
    {
     "name": "stderr",
     "output_type": "stream",
     "text": [
      "71it [00:02, 29.72it/s]\n"
     ]
    },
    {
     "name": "stdout",
     "output_type": "stream",
     "text": [
      "Epoch:  60 Accuracy:  11.200000000000001 %    loss :  8.133443832397461\n",
      "airplane: 752/1000\n",
      "automobile: 767/1000\n",
      "bird: 734/1000\n",
      "cat: 801/1000\n",
      "deer: 601/1000\n",
      "dog: 690/1000\n",
      "frog: 766/1000\n",
      "horse: 612/1000\n",
      "ship: 539/1000\n",
      "truck: 121/1000\n",
      "acc :  0.7092222222222222\n"
     ]
    },
    {
     "name": "stderr",
     "output_type": "stream",
     "text": [
      "71it [00:03, 21.47it/s]\n"
     ]
    },
    {
     "name": "stdout",
     "output_type": "stream",
     "text": [
      "Epoch:  61 Accuracy:  9.8 %    loss :  8.400851249694824\n",
      "airplane: 749/1000\n",
      "automobile: 762/1000\n",
      "bird: 734/1000\n",
      "cat: 805/1000\n",
      "deer: 596/1000\n",
      "dog: 684/1000\n",
      "frog: 761/1000\n",
      "horse: 606/1000\n",
      "ship: 532/1000\n",
      "truck: 109/1000\n",
      "acc :  0.7042222222222222\n"
     ]
    },
    {
     "name": "stderr",
     "output_type": "stream",
     "text": [
      "71it [00:02, 29.56it/s]\n"
     ]
    },
    {
     "name": "stdout",
     "output_type": "stream",
     "text": [
      "Epoch:  62 Accuracy:  8.4 %    loss :  8.659966468811035\n",
      "airplane: 746/1000\n",
      "automobile: 752/1000\n",
      "bird: 732/1000\n",
      "cat: 807/1000\n",
      "deer: 590/1000\n",
      "dog: 681/1000\n",
      "frog: 754/1000\n",
      "horse: 597/1000\n",
      "ship: 520/1000\n",
      "truck: 98/1000\n",
      "acc :  0.6974444444444444\n"
     ]
    },
    {
     "name": "stderr",
     "output_type": "stream",
     "text": [
      "71it [00:02, 29.53it/s]\n"
     ]
    },
    {
     "name": "stdout",
     "output_type": "stream",
     "text": [
      "Epoch:  63 Accuracy:  8.0 %    loss :  8.915266990661621\n",
      "airplane: 739/1000\n",
      "automobile: 745/1000\n",
      "bird: 728/1000\n",
      "cat: 812/1000\n",
      "deer: 580/1000\n",
      "dog: 680/1000\n",
      "frog: 749/1000\n",
      "horse: 588/1000\n",
      "ship: 509/1000\n",
      "truck: 88/1000\n",
      "acc :  0.6908888888888889\n"
     ]
    },
    {
     "name": "stderr",
     "output_type": "stream",
     "text": [
      "71it [00:02, 30.24it/s]\n"
     ]
    },
    {
     "name": "stdout",
     "output_type": "stream",
     "text": [
      "Epoch:  64 Accuracy:  7.199999999999999 %    loss :  9.16417121887207\n",
      "airplane: 734/1000\n",
      "automobile: 739/1000\n",
      "bird: 721/1000\n",
      "cat: 815/1000\n",
      "deer: 573/1000\n",
      "dog: 674/1000\n",
      "frog: 743/1000\n",
      "horse: 580/1000\n",
      "ship: 498/1000\n",
      "truck: 80/1000\n",
      "acc :  0.6841111111111111\n"
     ]
    },
    {
     "name": "stderr",
     "output_type": "stream",
     "text": [
      "71it [00:02, 29.60it/s]\n"
     ]
    },
    {
     "name": "stdout",
     "output_type": "stream",
     "text": [
      "Epoch:  65 Accuracy:  6.2 %    loss :  9.408699035644531\n",
      "airplane: 732/1000\n",
      "automobile: 730/1000\n",
      "bird: 716/1000\n",
      "cat: 819/1000\n",
      "deer: 562/1000\n",
      "dog: 673/1000\n",
      "frog: 733/1000\n",
      "horse: 575/1000\n",
      "ship: 493/1000\n",
      "truck: 76/1000\n",
      "acc :  0.6787777777777778\n"
     ]
    },
    {
     "name": "stderr",
     "output_type": "stream",
     "text": [
      "71it [00:02, 29.62it/s]\n"
     ]
    },
    {
     "name": "stdout",
     "output_type": "stream",
     "text": [
      "Epoch:  66 Accuracy:  6.0 %    loss :  9.644495964050293\n",
      "airplane: 729/1000\n",
      "automobile: 724/1000\n",
      "bird: 713/1000\n",
      "cat: 825/1000\n",
      "deer: 551/1000\n",
      "dog: 670/1000\n",
      "frog: 730/1000\n",
      "horse: 565/1000\n",
      "ship: 476/1000\n",
      "truck: 67/1000\n",
      "acc :  0.6722222222222223\n"
     ]
    },
    {
     "name": "stderr",
     "output_type": "stream",
     "text": [
      "71it [00:02, 29.62it/s]\n"
     ]
    },
    {
     "name": "stdout",
     "output_type": "stream",
     "text": [
      "Epoch:  67 Accuracy:  5.6000000000000005 %    loss :  9.877253532409668\n",
      "airplane: 726/1000\n",
      "automobile: 713/1000\n",
      "bird: 711/1000\n",
      "cat: 829/1000\n",
      "deer: 540/1000\n",
      "dog: 664/1000\n",
      "frog: 725/1000\n",
      "horse: 558/1000\n",
      "ship: 461/1000\n",
      "truck: 61/1000\n",
      "acc :  0.6653333333333333\n"
     ]
    },
    {
     "name": "stderr",
     "output_type": "stream",
     "text": [
      "71it [00:02, 29.53it/s]\n"
     ]
    },
    {
     "name": "stdout",
     "output_type": "stream",
     "text": [
      "Epoch:  68 Accuracy:  5.4 %    loss :  10.107464790344238\n",
      "airplane: 722/1000\n",
      "automobile: 705/1000\n",
      "bird: 706/1000\n",
      "cat: 831/1000\n",
      "deer: 534/1000\n",
      "dog: 662/1000\n",
      "frog: 715/1000\n",
      "horse: 552/1000\n",
      "ship: 447/1000\n",
      "truck: 57/1000\n",
      "acc :  0.659\n"
     ]
    },
    {
     "name": "stderr",
     "output_type": "stream",
     "text": [
      "71it [00:03, 21.21it/s]\n"
     ]
    },
    {
     "name": "stdout",
     "output_type": "stream",
     "text": [
      "Epoch:  69 Accuracy:  4.2 %    loss :  10.332006454467773\n",
      "airplane: 713/1000\n",
      "automobile: 700/1000\n",
      "bird: 701/1000\n",
      "cat: 837/1000\n",
      "deer: 528/1000\n",
      "dog: 659/1000\n",
      "frog: 707/1000\n",
      "horse: 545/1000\n",
      "ship: 439/1000\n",
      "truck: 52/1000\n",
      "acc :  0.6534444444444445\n"
     ]
    },
    {
     "name": "stderr",
     "output_type": "stream",
     "text": [
      "71it [00:02, 29.48it/s]\n"
     ]
    },
    {
     "name": "stdout",
     "output_type": "stream",
     "text": [
      "Epoch:  70 Accuracy:  3.5999999999999996 %    loss :  10.552240371704102\n",
      "airplane: 707/1000\n",
      "automobile: 687/1000\n",
      "bird: 698/1000\n",
      "cat: 842/1000\n",
      "deer: 521/1000\n",
      "dog: 657/1000\n",
      "frog: 698/1000\n",
      "horse: 538/1000\n",
      "ship: 427/1000\n",
      "truck: 46/1000\n",
      "acc :  0.6467777777777778\n"
     ]
    }
   ],
   "source": [
    "train(hi)"
   ]
  },
  {
   "cell_type": "code",
   "execution_count": null,
   "metadata": {},
   "outputs": [],
   "source": []
  }
 ],
 "metadata": {
  "kernelspec": {
   "display_name": "base",
   "language": "python",
   "name": "python3"
  },
  "language_info": {
   "codemirror_mode": {
    "name": "ipython",
    "version": 3
   },
   "file_extension": ".py",
   "mimetype": "text/x-python",
   "name": "python",
   "nbconvert_exporter": "python",
   "pygments_lexer": "ipython3",
   "version": "3.9.7"
  },
  "orig_nbformat": 4,
  "vscode": {
   "interpreter": {
    "hash": "4d52b7339183c6e2589e0d57b14d6a23c7d580e07969a7ad08f6a7daf002647c"
   }
  }
 },
 "nbformat": 4,
 "nbformat_minor": 2
}
